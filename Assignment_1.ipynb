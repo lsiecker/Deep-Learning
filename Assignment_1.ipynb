{
  "cells": [
    {
      "cell_type": "markdown",
      "metadata": {
        "id": "view-in-github",
        "colab_type": "text"
      },
      "source": [
        "<a href=\"https://colab.research.google.com/github/lsiecker/Deep-Learning/blob/main/Assignment_1.ipynb\" target=\"_parent\"><img src=\"https://colab.research.google.com/assets/colab-badge.svg\" alt=\"Open In Colab\"/></a>"
      ]
    },
    {
      "cell_type": "markdown",
      "id": "a4ec9a11-3515-40aa-97ac-73c249df560e",
      "metadata": {
        "id": "a4ec9a11-3515-40aa-97ac-73c249df560e"
      },
      "source": [
        "| Group Number: 21   |                  |                |\n",
        "| ----------- | ----------------------- | -------------- |\n",
        "| Student 1   | N.P.G.T. van Beuningen  | 1353624        |\n",
        "| Student 2   | D.P.M. van der Hoorn    | 1873334        |\n",
        "| Student 3   | L.R. Siecker            | 1344838        |"
      ]
    },
    {
      "cell_type": "markdown",
      "id": "a8c200a7-b3ab-4c9a-bcf8-320271c040f3",
      "metadata": {
        "id": "a8c200a7-b3ab-4c9a-bcf8-320271c040f3"
      },
      "source": [
        "In case you are using google colab, uncomment the following cell, and modify the ```notebook_dir``` variable to contain the directory this notebook is in. It will automatically download the .py files needed for this assignment"
      ]
    },
    {
      "cell_type": "code",
      "execution_count": 1,
      "id": "igFRsZKIC18S",
      "metadata": {
        "id": "igFRsZKIC18S"
      },
      "outputs": [],
      "source": [
        "# Change the following  line to the directory this notebook is (if using colab)\n",
        "# In case you do not know the path, open the file navigator on the left in colab\n",
        "# Find the folder containing this notebook, then press on the three dots --> copy path\n",
        "notebook_dir = \"/content/drive/MyDrive/Colab Notebooks/\""
      ]
    },
    {
      "cell_type": "code",
      "execution_count": 2,
      "id": "828246d4-75b2-42b7-ab06-925e6624f411",
      "metadata": {
        "id": "828246d4-75b2-42b7-ab06-925e6624f411",
        "outputId": "17aef9ce-0f05-4ea4-b6af-429da430ac60",
        "colab": {
          "base_uri": "https://localhost:8080/"
        }
      },
      "outputs": [
        {
          "output_type": "stream",
          "name": "stdout",
          "text": [
            "Mounted at /content/drive\n"
          ]
        }
      ],
      "source": [
        "# UNCOMMENT IF USING COLAB\n",
        "from google.colab import drive\n",
        "import requests\n",
        "drive.mount('/content/drive')\n",
        "import sys\n",
        "import os\n",
        "sys.path.insert(0, notebook_dir) \n",
        "os.chdir(notebook_dir)\n",
        "symco = \"https://github.com/vlamen/tue-deeplearning/blob/main/assignments/assignment_1/symconv.py?raw=true\"\n",
        "crpt = \"https://github.com/vlamen/tue-deeplearning/blob/main/assignments/assignment_1/carpet.py?raw=true\"\n",
        "r_s = requests.get(symco, allow_redirects=True)\n",
        "r_c = requests.get(crpt, allow_redirects=True)\n",
        "with open('symconv.py', 'wb') as f:\n",
        "    f.write(r_s.content)\n",
        "with open('carpet.py', 'wb') as f:\n",
        "    f.write(r_c.content)"
      ]
    },
    {
      "cell_type": "code",
      "execution_count": 3,
      "id": "1c401bd6-3828-4f5e-ada8-a026e0a167bf",
      "metadata": {
        "id": "1c401bd6-3828-4f5e-ada8-a026e0a167bf"
      },
      "outputs": [],
      "source": [
        "import torch\n",
        "import torch.nn as nn\n",
        "import torch.nn.functional as F\n",
        "from torch.utils.data import DataLoader, Dataset, TensorDataset\n",
        "\n",
        "import io\n",
        "import requests\n",
        "\n",
        "import symconv as sc\n",
        "from carpet import show_carpet, oh_to_label\n",
        "\n",
        "import numpy as np\n",
        "import matplotlib.pyplot as plt\n",
        "\n",
        "from scipy.spatial.distance import cdist\n",
        "\n",
        "from tqdm import tqdm"
      ]
    },
    {
      "cell_type": "code",
      "execution_count": 4,
      "id": "35c0bcb8-5215-40b3-8ba2-7e4208651c90",
      "metadata": {
        "id": "35c0bcb8-5215-40b3-8ba2-7e4208651c90"
      },
      "outputs": [],
      "source": [
        "def load_numpy_arr_from_url(url):\n",
        "    \"\"\"\n",
        "    Loads a numpy array from surfdrive. \n",
        "    \n",
        "    Input:\n",
        "    url: Download link of dataset \n",
        "    \n",
        "    Outputs:\n",
        "    dataset: numpy array with input features or labels\n",
        "    \"\"\"\n",
        "    \n",
        "    response = requests.get(url)\n",
        "    response.raise_for_status()\n",
        "\n",
        "    return np.load(io.BytesIO(response.content)) "
      ]
    },
    {
      "cell_type": "markdown",
      "id": "045a1fdc-8c84-4829-b8c8-14c957f733f6",
      "metadata": {
        "id": "045a1fdc-8c84-4829-b8c8-14c957f733f6"
      },
      "source": [
        "# Task 1: Pattern Classification"
      ]
    },
    {
      "cell_type": "code",
      "execution_count": 5,
      "id": "a45b63ab-610e-4e03-b1da-a717c2a77c8a",
      "metadata": {
        "id": "a45b63ab-610e-4e03-b1da-a717c2a77c8a",
        "outputId": "2a4beb06-f145-4f43-ed12-0044ae49a88a",
        "colab": {
          "base_uri": "https://localhost:8080/"
        }
      },
      "outputs": [
        {
          "output_type": "stream",
          "name": "stdout",
          "text": [
            "Carpet train shape: torch.Size([7500, 1, 96, 60])\n",
            "Label train shape: torch.Size([7500, 3])\n",
            "Carpet validation shape: torch.Size([2000, 1, 96, 60])\n",
            "Label validation shape: torch.Size([2000, 3])\n",
            "Carpet test shape: torch.Size([500, 1, 96, 60])\n",
            "Label test shape: torch.Size([500, 3])\n"
          ]
        }
      ],
      "source": [
        "# loading training and testing data for task 1\n",
        "# DO NOT MODIFY\n",
        "task1 = load_numpy_arr_from_url(\"https://github.com/vlamen/tue-deeplearning/blob/main/assignments/assignment_1/task1data.npz?raw=true\")\n",
        "# task1 = np.load(\"task1data.npz\")\n",
        "\n",
        "X = torch.tensor(task1['arr_0']).float()\n",
        "y = torch.tensor(task1['arr_1']).float()\n",
        "\n",
        "X_train = X[:7500]\n",
        "X_val = X[7500:9500]\n",
        "X_test = X[9500:]\n",
        "y_train = y[:7500]\n",
        "y_val = y[7500:9500]\n",
        "y_test  = y[9500:]\n",
        "\n",
        "train_dataset = TensorDataset(X_train, y_train)\n",
        "val_dataset = TensorDataset(X_val, y_val)\n",
        "test_dataset = TensorDataset(X_test, y_test)\n",
        "\n",
        "\n",
        "print(f\"Carpet train shape: {X_train.shape}\")\n",
        "print(f\"Label train shape: {y_train.shape}\")\n",
        "print(f\"Carpet validation shape: {X_val.shape}\")\n",
        "print(f\"Label validation shape: {y_val.shape}\")\n",
        "print(f\"Carpet test shape: {X_test.shape}\")\n",
        "print(f\"Label test shape: {y_test.shape}\")"
      ]
    },
    {
      "cell_type": "code",
      "execution_count": 43,
      "id": "a4c5553f-023f-48fc-81b5-83184a46a21d",
      "metadata": {
        "id": "a4c5553f-023f-48fc-81b5-83184a46a21d",
        "outputId": "033a853d-5a87-4fd1-eb93-f1ca5d4f2c54",
        "colab": {
          "base_uri": "https://localhost:8080/",
          "height": 302
        }
      },
      "outputs": [
        {
          "output_type": "stream",
          "name": "stdout",
          "text": [
            "Carpet from Reinforciya\n"
          ]
        },
        {
          "output_type": "display_data",
          "data": {
            "text/plain": [
              "<Figure size 640x480 with 1 Axes>"
            ],
            "image/png": "[encoded data removed]"
          },
          "metadata": {}
        }
      ],
      "source": [
        "# random carpet\n",
        "idx = np.random.randint(0,7500)\n",
        "show_carpet(X_train, idx)\n",
        "print('Carpet from', oh_to_label(y_train[idx,None])[0])"
      ]
    },
    {
      "cell_type": "code",
      "execution_count": 100,
      "id": "7a5db004-5dbf-42b3-a665-3c97c293d6c5",
      "metadata": {
        "id": "7a5db004-5dbf-42b3-a665-3c97c293d6c5"
      },
      "outputs": [],
      "source": [
        "###     YOUR CODE FOR TASK 1    ###\n",
        "'''\n",
        "Na input meteen de slice layer\n",
        "\n",
        "Pooling layer sws na de laatste convolutional layer en laatste spacing pooling layer, daarna kan\n",
        "je de flatten layer doen en dan de fully connected layer (dense layer)\n",
        "'''\n",
        "\n",
        "class OriginPredictor(nn.Module):\n",
        "    def __init__(self) -> None:\n",
        "        super(OriginPredictor, self).__init__()\n",
        "\n",
        "        self.model = nn.Sequential(\n",
        "            \n",
        "            nn.Conv2d(1, 40, kernel_size=4, stride=4, padding=1),\n",
        "            nn.ReLU(),\n",
        "\n",
        "            sc.Slice(4, False),\n",
        "\n",
        "            sc.SymmetryConv2d(40, 40, 5, rotation=4, reflection=False),\n",
        "            nn.Dropout2d(0.3),\n",
        "            nn.ReLU(),\n",
        "\n",
        "            sc.SymmetryPool(),\n",
        "\n",
        "            nn.Conv2d(40, 24, kernel_size=3, stride=3, padding=2),\n",
        "            nn.BatchNorm2d(24),\n",
        "            nn.ReLU(),\n",
        "\n",
        "            nn.Conv2d(24, 24, kernel_size=(8,5), stride=1),\n",
        "            nn.BatchNorm2d(24),\n",
        "            nn.ReLU(),\n",
        "            \n",
        "            nn.Flatten(),\n",
        "\n",
        "            nn.Linear(24, 3),\n",
        "            nn.Sigmoid()\n",
        "        )\n",
        "\n",
        "    def forward(self, x):\n",
        "        return self.model(x)\n",
        "\n"
      ]
    },
    {
      "cell_type": "code",
      "execution_count": 56,
      "id": "1622ba86",
      "metadata": {
        "id": "1622ba86"
      },
      "outputs": [],
      "source": [
        "from torch.utils.data import DataLoader\n",
        "\n",
        "# dataloader training\n",
        "dataloader_training = DataLoader(dataset=train_dataset,\n",
        "                                 batch_size=32,\n",
        "                                 shuffle=True)\n",
        "\n",
        "# dataloader validation\n",
        "dataloader_validation = DataLoader(dataset=val_dataset,\n",
        "                                   batch_size=32,\n",
        "                                   shuffle=True)"
      ]
    },
    {
      "cell_type": "code",
      "execution_count": 95,
      "id": "815e6e7f",
      "metadata": {
        "id": "815e6e7f"
      },
      "outputs": [],
      "source": [
        "import numpy as np\n",
        "from tqdm import tqdm\n",
        "\n",
        "\n",
        "class Trainer():\n",
        "    def __init__(self,\n",
        "                 model: torch.nn.Module,\n",
        "                 device: torch.device,\n",
        "                 criterion: torch.nn.Module,\n",
        "                 optimizer: torch.optim.Optimizer,\n",
        "                 training_DataLoader: torch.utils.data.Dataset,\n",
        "                 validation_DataLoader: torch.utils.data.Dataset ,\n",
        "                 epochs: int\n",
        "                 ):\n",
        "        \n",
        "        self.model = model\n",
        "        self.criterion = criterion\n",
        "        self.optimizer = optimizer\n",
        "        self.training_DataLoader = training_DataLoader\n",
        "        self.validation_DataLoader = validation_DataLoader\n",
        "        self.device = device\n",
        "        self.epochs = epochs\n",
        "\n",
        "\n",
        "\n",
        "\n",
        "    def run_trainer(self):\n",
        "\n",
        "\n",
        "        for epoch in tqdm(range(self.epochs)):\n",
        "                 \n",
        "            train_acc, val_acc = [], []\n",
        "\n",
        "            self.model.train()  # train mode\n",
        "\n",
        "            train_losses=[]\n",
        "            for batch in self.training_DataLoader:\n",
        "\n",
        "                x,y=batch\n",
        "                input, target = x.to(self.device), y.to(self.device)  # send to device (GPU or CPU)\n",
        "                self.optimizer.zero_grad()  # zerograd the parameters\n",
        "                out = self.model(input)  # one forward pass\n",
        "                loss = self.criterion(out, target)  # calculate loss\n",
        "                out_softmax = torch.softmax(out, dim=1)  # perform softmax on outputs\n",
        "                max_index_pred = torch.argmax(out_softmax, dim=1)\n",
        "                max_index_test = torch.argmax(target, dim=1)\n",
        "\n",
        "                pred_correct = torch.sum(max_index_pred == max_index_test)\n",
        "\n",
        "                train_acc.append(100*pred_correct.cpu().numpy()/len(out))\n",
        "                 \n",
        "                loss_value = loss.item()\n",
        "                train_losses.append(loss_value)\n",
        "                 \n",
        "                loss.backward()  # one backward pass\n",
        "                self.optimizer.step()  # update the parameters\n",
        "\n",
        "\n",
        "\n",
        "            self.model.eval()  # evaluation mode\n",
        "            valid_losses = []  # accumulate the losses here\n",
        "\n",
        "            for batch in self.validation_DataLoader:\n",
        "\n",
        "                x,y=batch\n",
        "                input, target = x.to(self.device), y.to(self.device)  # send to device (GPU or CPU)\n",
        "\n",
        "                with torch.no_grad():\n",
        "                    out = self.model(input)   # one forward pass\n",
        "                    loss = self.criterion(out, target) # calculate loss\n",
        "                 \n",
        "                    out_softmax = torch.softmax(out, dim=1)  # perform softmax on outputs\n",
        "                    max_index_pred = torch.argmax(out_softmax, dim=1)\n",
        "                    max_index_test = torch.argmax(target, dim=1)\n",
        "\n",
        "                    pred_correct = torch.sum(max_index_pred == max_index_test)\n",
        "\n",
        "                    val_acc.append(100*pred_correct.cpu().numpy()/len(out))\n",
        "\n",
        "                    loss_value = loss.item()\n",
        "                    valid_losses.append(loss_value)\n",
        "\n",
        "\n",
        "                \n",
        "            # print the results\n",
        "            print(\n",
        "                f' EPOCH: {epoch+1:0>{len(str(self.epochs))}}/{self.epochs}',\n",
        "                end=' '\n",
        "            )\n",
        "            print(f'TRAIN-ACC: {np.mean(train_acc):.2f}',end=' ')\n",
        "            print(f'TRAIN-LOSS: {np.mean(train_losses):.4f}',end=' | ')\n",
        "            print(f'VAL-ACC: {np.mean(val_acc):.2f}',end=' ')\n",
        "            print(f'VAL-LOSS: {np.mean(valid_losses):.4f}',end='\\n')\n",
        "\n",
        "   "
      ]
    },
    {
      "cell_type": "code",
      "execution_count": 111,
      "id": "5592ecdd",
      "metadata": {
        "id": "5592ecdd",
        "outputId": "5a3a8b5c-ac90-4875-d1a6-3a9364637f99",
        "colab": {
          "base_uri": "https://localhost:8080/"
        }
      },
      "outputs": [
        {
          "output_type": "stream",
          "name": "stderr",
          "text": [
            "\r  0%|          | 0/50 [00:00<?, ?it/s]/usr/local/lib/python3.10/dist-packages/torch/nn/functional.py:1331: UserWarning: dropout2d: Received a 5-D input to dropout2d, which is deprecated and will result in an error in a future release. To retain the behavior and silence this warning, please use dropout instead. Note that dropout2d exists to provide channel-wise dropout on inputs with 2 spatial dimensions, a channel dimension, and an optional batch dimension (i.e. 3D or 4D inputs).\n",
            "  warnings.warn(warn_msg)\n",
            "  2%|▏         | 1/50 [00:02<01:53,  2.32s/it]"
          ]
        },
        {
          "output_type": "stream",
          "name": "stdout",
          "text": [
            " EPOCH: 01/50 TRAIN-ACC: 52.94 TRAIN-LOSS: 0.9829 | VAL-ACC: 50.25 VAL-LOSS: 1.0095\n"
          ]
        },
        {
          "output_type": "stream",
          "name": "stderr",
          "text": [
            "\r  4%|▍         | 2/50 [00:04<01:36,  2.01s/it]"
          ]
        },
        {
          "output_type": "stream",
          "name": "stdout",
          "text": [
            " EPOCH: 02/50 TRAIN-ACC: 79.23 TRAIN-LOSS: 0.7601 | VAL-ACC: 74.36 VAL-LOSS: 0.7972\n"
          ]
        },
        {
          "output_type": "stream",
          "name": "stderr",
          "text": [
            "\r  6%|▌         | 3/50 [00:05<01:27,  1.86s/it]"
          ]
        },
        {
          "output_type": "stream",
          "name": "stdout",
          "text": [
            " EPOCH: 03/50 TRAIN-ACC: 83.21 TRAIN-LOSS: 0.7127 | VAL-ACC: 74.50 VAL-LOSS: 0.7930\n"
          ]
        },
        {
          "output_type": "stream",
          "name": "stderr",
          "text": [
            "\r  8%|▊         | 4/50 [00:07<01:21,  1.78s/it]"
          ]
        },
        {
          "output_type": "stream",
          "name": "stdout",
          "text": [
            " EPOCH: 04/50 TRAIN-ACC: 85.90 TRAIN-LOSS: 0.6900 | VAL-ACC: 88.34 VAL-LOSS: 0.6703\n"
          ]
        },
        {
          "output_type": "stream",
          "name": "stderr",
          "text": [
            "\r 10%|█         | 5/50 [00:09<01:18,  1.74s/it]"
          ]
        },
        {
          "output_type": "stream",
          "name": "stdout",
          "text": [
            " EPOCH: 05/50 TRAIN-ACC: 87.78 TRAIN-LOSS: 0.6703 | VAL-ACC: 86.31 VAL-LOSS: 0.6774\n"
          ]
        },
        {
          "output_type": "stream",
          "name": "stderr",
          "text": [
            "\r 12%|█▏        | 6/50 [00:10<01:15,  1.73s/it]"
          ]
        },
        {
          "output_type": "stream",
          "name": "stdout",
          "text": [
            " EPOCH: 06/50 TRAIN-ACC: 87.69 TRAIN-LOSS: 0.6720 | VAL-ACC: 89.09 VAL-LOSS: 0.6667\n"
          ]
        },
        {
          "output_type": "stream",
          "name": "stderr",
          "text": [
            "\r 14%|█▍        | 7/50 [00:12<01:14,  1.73s/it]"
          ]
        },
        {
          "output_type": "stream",
          "name": "stdout",
          "text": [
            " EPOCH: 07/50 TRAIN-ACC: 90.49 TRAIN-LOSS: 0.6483 | VAL-ACC: 92.11 VAL-LOSS: 0.6357\n"
          ]
        },
        {
          "output_type": "stream",
          "name": "stderr",
          "text": [
            "\r 16%|█▌        | 8/50 [00:14<01:14,  1.78s/it]"
          ]
        },
        {
          "output_type": "stream",
          "name": "stdout",
          "text": [
            " EPOCH: 08/50 TRAIN-ACC: 91.86 TRAIN-LOSS: 0.6362 | VAL-ACC: 93.20 VAL-LOSS: 0.6291\n"
          ]
        },
        {
          "output_type": "stream",
          "name": "stderr",
          "text": [
            "\r 18%|█▊        | 9/50 [00:16<01:14,  1.81s/it]"
          ]
        },
        {
          "output_type": "stream",
          "name": "stdout",
          "text": [
            " EPOCH: 09/50 TRAIN-ACC: 93.45 TRAIN-LOSS: 0.6222 | VAL-ACC: 94.44 VAL-LOSS: 0.6197\n"
          ]
        },
        {
          "output_type": "stream",
          "name": "stderr",
          "text": [
            "\r 20%|██        | 10/50 [00:18<01:10,  1.77s/it]"
          ]
        },
        {
          "output_type": "stream",
          "name": "stdout",
          "text": [
            " EPOCH: 10/50 TRAIN-ACC: 95.23 TRAIN-LOSS: 0.6051 | VAL-ACC: 93.70 VAL-LOSS: 0.6268\n"
          ]
        },
        {
          "output_type": "stream",
          "name": "stderr",
          "text": [
            "\r 22%|██▏       | 11/50 [00:19<01:07,  1.74s/it]"
          ]
        },
        {
          "output_type": "stream",
          "name": "stdout",
          "text": [
            " EPOCH: 11/50 TRAIN-ACC: 94.97 TRAIN-LOSS: 0.6090 | VAL-ACC: 95.04 VAL-LOSS: 0.6047\n"
          ]
        },
        {
          "output_type": "stream",
          "name": "stderr",
          "text": [
            "\r 24%|██▍       | 12/50 [00:21<01:05,  1.73s/it]"
          ]
        },
        {
          "output_type": "stream",
          "name": "stdout",
          "text": [
            " EPOCH: 12/50 TRAIN-ACC: 95.37 TRAIN-LOSS: 0.6015 | VAL-ACC: 96.03 VAL-LOSS: 0.6017\n"
          ]
        },
        {
          "output_type": "stream",
          "name": "stderr",
          "text": [
            "\r 26%|██▌       | 13/50 [00:23<01:03,  1.71s/it]"
          ]
        },
        {
          "output_type": "stream",
          "name": "stdout",
          "text": [
            " EPOCH: 13/50 TRAIN-ACC: 95.55 TRAIN-LOSS: 0.6023 | VAL-ACC: 93.40 VAL-LOSS: 0.6226\n"
          ]
        },
        {
          "output_type": "stream",
          "name": "stderr",
          "text": [
            "\r 28%|██▊       | 14/50 [00:24<01:04,  1.78s/it]"
          ]
        },
        {
          "output_type": "stream",
          "name": "stdout",
          "text": [
            " EPOCH: 14/50 TRAIN-ACC: 95.87 TRAIN-LOSS: 0.5973 | VAL-ACC: 96.92 VAL-LOSS: 0.5954\n"
          ]
        },
        {
          "output_type": "stream",
          "name": "stderr",
          "text": [
            "\r 30%|███       | 15/50 [00:26<01:02,  1.79s/it]"
          ]
        },
        {
          "output_type": "stream",
          "name": "stdout",
          "text": [
            " EPOCH: 15/50 TRAIN-ACC: 96.24 TRAIN-LOSS: 0.5947 | VAL-ACC: 95.78 VAL-LOSS: 0.5972\n"
          ]
        },
        {
          "output_type": "stream",
          "name": "stderr",
          "text": [
            "\r 32%|███▏      | 16/50 [00:28<01:02,  1.83s/it]"
          ]
        },
        {
          "output_type": "stream",
          "name": "stdout",
          "text": [
            " EPOCH: 16/50 TRAIN-ACC: 96.19 TRAIN-LOSS: 0.5961 | VAL-ACC: 94.84 VAL-LOSS: 0.6055\n"
          ]
        },
        {
          "output_type": "stream",
          "name": "stderr",
          "text": [
            "\r 34%|███▍      | 17/50 [00:30<00:59,  1.80s/it]"
          ]
        },
        {
          "output_type": "stream",
          "name": "stdout",
          "text": [
            " EPOCH: 17/50 TRAIN-ACC: 96.56 TRAIN-LOSS: 0.5934 | VAL-ACC: 94.94 VAL-LOSS: 0.6032\n"
          ]
        },
        {
          "output_type": "stream",
          "name": "stderr",
          "text": [
            "\r 36%|███▌      | 18/50 [00:32<00:56,  1.77s/it]"
          ]
        },
        {
          "output_type": "stream",
          "name": "stdout",
          "text": [
            " EPOCH: 18/50 TRAIN-ACC: 97.14 TRAIN-LOSS: 0.5880 | VAL-ACC: 96.33 VAL-LOSS: 0.5933\n"
          ]
        },
        {
          "output_type": "stream",
          "name": "stderr",
          "text": [
            "\r 38%|███▊      | 19/50 [00:33<00:53,  1.74s/it]"
          ]
        },
        {
          "output_type": "stream",
          "name": "stdout",
          "text": [
            " EPOCH: 19/50 TRAIN-ACC: 96.37 TRAIN-LOSS: 0.5920 | VAL-ACC: 96.68 VAL-LOSS: 0.5899\n"
          ]
        },
        {
          "output_type": "stream",
          "name": "stderr",
          "text": [
            "\r 40%|████      | 20/50 [00:35<00:51,  1.72s/it]"
          ]
        },
        {
          "output_type": "stream",
          "name": "stdout",
          "text": [
            " EPOCH: 20/50 TRAIN-ACC: 96.73 TRAIN-LOSS: 0.5899 | VAL-ACC: 95.34 VAL-LOSS: 0.6026\n"
          ]
        },
        {
          "output_type": "stream",
          "name": "stderr",
          "text": [
            "\r 42%|████▏     | 21/50 [00:37<00:49,  1.71s/it]"
          ]
        },
        {
          "output_type": "stream",
          "name": "stdout",
          "text": [
            " EPOCH: 21/50 TRAIN-ACC: 96.39 TRAIN-LOSS: 0.5930 | VAL-ACC: 95.19 VAL-LOSS: 0.5973\n"
          ]
        },
        {
          "output_type": "stream",
          "name": "stderr",
          "text": [
            "\r 44%|████▍     | 22/50 [00:38<00:47,  1.71s/it]"
          ]
        },
        {
          "output_type": "stream",
          "name": "stdout",
          "text": [
            " EPOCH: 22/50 TRAIN-ACC: 95.79 TRAIN-LOSS: 0.5978 | VAL-ACC: 96.68 VAL-LOSS: 0.5911\n"
          ]
        },
        {
          "output_type": "stream",
          "name": "stderr",
          "text": [
            "\r 46%|████▌     | 23/50 [00:40<00:47,  1.76s/it]"
          ]
        },
        {
          "output_type": "stream",
          "name": "stdout",
          "text": [
            " EPOCH: 23/50 TRAIN-ACC: 96.61 TRAIN-LOSS: 0.5924 | VAL-ACC: 95.83 VAL-LOSS: 0.5939\n"
          ]
        },
        {
          "output_type": "stream",
          "name": "stderr",
          "text": [
            "\r 48%|████▊     | 24/50 [00:42<00:46,  1.80s/it]"
          ]
        },
        {
          "output_type": "stream",
          "name": "stdout",
          "text": [
            " EPOCH: 24/50 TRAIN-ACC: 96.82 TRAIN-LOSS: 0.5872 | VAL-ACC: 97.47 VAL-LOSS: 0.5822\n"
          ]
        },
        {
          "output_type": "stream",
          "name": "stderr",
          "text": [
            "\r 50%|█████     | 25/50 [00:44<00:43,  1.76s/it]"
          ]
        },
        {
          "output_type": "stream",
          "name": "stdout",
          "text": [
            " EPOCH: 25/50 TRAIN-ACC: 96.82 TRAIN-LOSS: 0.5889 | VAL-ACC: 94.64 VAL-LOSS: 0.6116\n"
          ]
        },
        {
          "output_type": "stream",
          "name": "stderr",
          "text": [
            "\r 52%|█████▏    | 26/50 [00:46<00:41,  1.73s/it]"
          ]
        },
        {
          "output_type": "stream",
          "name": "stdout",
          "text": [
            " EPOCH: 26/50 TRAIN-ACC: 97.12 TRAIN-LOSS: 0.5847 | VAL-ACC: 97.22 VAL-LOSS: 0.5830\n"
          ]
        },
        {
          "output_type": "stream",
          "name": "stderr",
          "text": [
            "\r 54%|█████▍    | 27/50 [00:47<00:39,  1.72s/it]"
          ]
        },
        {
          "output_type": "stream",
          "name": "stdout",
          "text": [
            " EPOCH: 27/50 TRAIN-ACC: 96.47 TRAIN-LOSS: 0.5920 | VAL-ACC: 96.13 VAL-LOSS: 0.6020\n"
          ]
        },
        {
          "output_type": "stream",
          "name": "stderr",
          "text": [
            "\r 56%|█████▌    | 28/50 [00:49<00:37,  1.70s/it]"
          ]
        },
        {
          "output_type": "stream",
          "name": "stdout",
          "text": [
            " EPOCH: 28/50 TRAIN-ACC: 97.03 TRAIN-LOSS: 0.5852 | VAL-ACC: 95.34 VAL-LOSS: 0.5946\n"
          ]
        },
        {
          "output_type": "stream",
          "name": "stderr",
          "text": [
            "\r 58%|█████▊    | 29/50 [00:51<00:35,  1.69s/it]"
          ]
        },
        {
          "output_type": "stream",
          "name": "stdout",
          "text": [
            " EPOCH: 29/50 TRAIN-ACC: 97.26 TRAIN-LOSS: 0.5820 | VAL-ACC: 97.32 VAL-LOSS: 0.5804\n"
          ]
        },
        {
          "output_type": "stream",
          "name": "stderr",
          "text": [
            "\r 60%|██████    | 30/50 [00:52<00:34,  1.71s/it]"
          ]
        },
        {
          "output_type": "stream",
          "name": "stdout",
          "text": [
            " EPOCH: 30/50 TRAIN-ACC: 97.15 TRAIN-LOSS: 0.5816 | VAL-ACC: 97.37 VAL-LOSS: 0.5875\n"
          ]
        },
        {
          "output_type": "stream",
          "name": "stderr",
          "text": [
            "\r 62%|██████▏   | 31/50 [00:54<00:33,  1.76s/it]"
          ]
        },
        {
          "output_type": "stream",
          "name": "stdout",
          "text": [
            " EPOCH: 31/50 TRAIN-ACC: 96.88 TRAIN-LOSS: 0.5861 | VAL-ACC: 98.31 VAL-LOSS: 0.5738\n"
          ]
        },
        {
          "output_type": "stream",
          "name": "stderr",
          "text": [
            "\r 64%|██████▍   | 32/50 [00:56<00:32,  1.78s/it]"
          ]
        },
        {
          "output_type": "stream",
          "name": "stdout",
          "text": [
            " EPOCH: 32/50 TRAIN-ACC: 97.21 TRAIN-LOSS: 0.5836 | VAL-ACC: 97.52 VAL-LOSS: 0.5821\n"
          ]
        },
        {
          "output_type": "stream",
          "name": "stderr",
          "text": [
            "\r 66%|██████▌   | 33/50 [00:58<00:29,  1.75s/it]"
          ]
        },
        {
          "output_type": "stream",
          "name": "stdout",
          "text": [
            " EPOCH: 33/50 TRAIN-ACC: 97.47 TRAIN-LOSS: 0.5806 | VAL-ACC: 97.82 VAL-LOSS: 0.5803\n"
          ]
        },
        {
          "output_type": "stream",
          "name": "stderr",
          "text": [
            "\r 68%|██████▊   | 34/50 [00:59<00:27,  1.73s/it]"
          ]
        },
        {
          "output_type": "stream",
          "name": "stdout",
          "text": [
            " EPOCH: 34/50 TRAIN-ACC: 97.25 TRAIN-LOSS: 0.5822 | VAL-ACC: 98.12 VAL-LOSS: 0.5736\n"
          ]
        },
        {
          "output_type": "stream",
          "name": "stderr",
          "text": [
            "\r 70%|███████   | 35/50 [01:01<00:25,  1.71s/it]"
          ]
        },
        {
          "output_type": "stream",
          "name": "stdout",
          "text": [
            " EPOCH: 35/50 TRAIN-ACC: 97.50 TRAIN-LOSS: 0.5807 | VAL-ACC: 96.48 VAL-LOSS: 0.5858\n"
          ]
        },
        {
          "output_type": "stream",
          "name": "stderr",
          "text": [
            "\r 72%|███████▏  | 36/50 [01:03<00:23,  1.70s/it]"
          ]
        },
        {
          "output_type": "stream",
          "name": "stdout",
          "text": [
            " EPOCH: 36/50 TRAIN-ACC: 97.41 TRAIN-LOSS: 0.5805 | VAL-ACC: 96.78 VAL-LOSS: 0.5900\n"
          ]
        },
        {
          "output_type": "stream",
          "name": "stderr",
          "text": [
            "\r 74%|███████▍  | 37/50 [01:04<00:21,  1.69s/it]"
          ]
        },
        {
          "output_type": "stream",
          "name": "stdout",
          "text": [
            " EPOCH: 37/50 TRAIN-ACC: 97.19 TRAIN-LOSS: 0.5833 | VAL-ACC: 98.71 VAL-LOSS: 0.5692\n"
          ]
        },
        {
          "output_type": "stream",
          "name": "stderr",
          "text": [
            "\r 76%|███████▌  | 38/50 [01:06<00:20,  1.73s/it]"
          ]
        },
        {
          "output_type": "stream",
          "name": "stdout",
          "text": [
            " EPOCH: 38/50 TRAIN-ACC: 97.57 TRAIN-LOSS: 0.5817 | VAL-ACC: 98.36 VAL-LOSS: 0.5702\n"
          ]
        },
        {
          "output_type": "stream",
          "name": "stderr",
          "text": [
            "\r 78%|███████▊  | 39/50 [01:08<00:19,  1.78s/it]"
          ]
        },
        {
          "output_type": "stream",
          "name": "stdout",
          "text": [
            " EPOCH: 39/50 TRAIN-ACC: 97.46 TRAIN-LOSS: 0.5822 | VAL-ACC: 97.72 VAL-LOSS: 0.5791\n"
          ]
        },
        {
          "output_type": "stream",
          "name": "stderr",
          "text": [
            "\r 80%|████████  | 40/50 [01:10<00:17,  1.77s/it]"
          ]
        },
        {
          "output_type": "stream",
          "name": "stdout",
          "text": [
            " EPOCH: 40/50 TRAIN-ACC: 97.05 TRAIN-LOSS: 0.5867 | VAL-ACC: 98.76 VAL-LOSS: 0.5773\n"
          ]
        },
        {
          "output_type": "stream",
          "name": "stderr",
          "text": [
            "\r 82%|████████▏ | 41/50 [01:11<00:15,  1.74s/it]"
          ]
        },
        {
          "output_type": "stream",
          "name": "stdout",
          "text": [
            " EPOCH: 41/50 TRAIN-ACC: 97.89 TRAIN-LOSS: 0.5790 | VAL-ACC: 98.31 VAL-LOSS: 0.5696\n"
          ]
        },
        {
          "output_type": "stream",
          "name": "stderr",
          "text": [
            "\r 84%|████████▍ | 42/50 [01:13<00:13,  1.72s/it]"
          ]
        },
        {
          "output_type": "stream",
          "name": "stdout",
          "text": [
            " EPOCH: 42/50 TRAIN-ACC: 97.54 TRAIN-LOSS: 0.5809 | VAL-ACC: 98.07 VAL-LOSS: 0.5746\n"
          ]
        },
        {
          "output_type": "stream",
          "name": "stderr",
          "text": [
            "\r 86%|████████▌ | 43/50 [01:15<00:11,  1.70s/it]"
          ]
        },
        {
          "output_type": "stream",
          "name": "stdout",
          "text": [
            " EPOCH: 43/50 TRAIN-ACC: 97.22 TRAIN-LOSS: 0.5827 | VAL-ACC: 98.02 VAL-LOSS: 0.5756\n"
          ]
        },
        {
          "output_type": "stream",
          "name": "stderr",
          "text": [
            "\r 88%|████████▊ | 44/50 [01:16<00:10,  1.70s/it]"
          ]
        },
        {
          "output_type": "stream",
          "name": "stdout",
          "text": [
            " EPOCH: 44/50 TRAIN-ACC: 97.52 TRAIN-LOSS: 0.5815 | VAL-ACC: 96.63 VAL-LOSS: 0.5875\n"
          ]
        },
        {
          "output_type": "stream",
          "name": "stderr",
          "text": [
            "\r 90%|█████████ | 45/50 [01:18<00:08,  1.69s/it]"
          ]
        },
        {
          "output_type": "stream",
          "name": "stdout",
          "text": [
            " EPOCH: 45/50 TRAIN-ACC: 97.17 TRAIN-LOSS: 0.5826 | VAL-ACC: 97.17 VAL-LOSS: 0.5831\n"
          ]
        },
        {
          "output_type": "stream",
          "name": "stderr",
          "text": [
            "\r 92%|█████████▏| 46/50 [01:20<00:06,  1.74s/it]"
          ]
        },
        {
          "output_type": "stream",
          "name": "stdout",
          "text": [
            " EPOCH: 46/50 TRAIN-ACC: 97.46 TRAIN-LOSS: 0.5823 | VAL-ACC: 97.67 VAL-LOSS: 0.5763\n"
          ]
        },
        {
          "output_type": "stream",
          "name": "stderr",
          "text": [
            "\r 94%|█████████▍| 47/50 [01:22<00:05,  1.78s/it]"
          ]
        },
        {
          "output_type": "stream",
          "name": "stdout",
          "text": [
            " EPOCH: 47/50 TRAIN-ACC: 96.55 TRAIN-LOSS: 0.5894 | VAL-ACC: 98.02 VAL-LOSS: 0.5731\n"
          ]
        },
        {
          "output_type": "stream",
          "name": "stderr",
          "text": [
            "\r 96%|█████████▌| 48/50 [01:24<00:03,  1.75s/it]"
          ]
        },
        {
          "output_type": "stream",
          "name": "stdout",
          "text": [
            " EPOCH: 48/50 TRAIN-ACC: 97.63 TRAIN-LOSS: 0.5790 | VAL-ACC: 95.19 VAL-LOSS: 0.6133\n"
          ]
        },
        {
          "output_type": "stream",
          "name": "stderr",
          "text": [
            "\r 98%|█████████▊| 49/50 [01:25<00:01,  1.73s/it]"
          ]
        },
        {
          "output_type": "stream",
          "name": "stdout",
          "text": [
            " EPOCH: 49/50 TRAIN-ACC: 97.62 TRAIN-LOSS: 0.5787 | VAL-ACC: 98.12 VAL-LOSS: 0.5743\n"
          ]
        },
        {
          "output_type": "stream",
          "name": "stderr",
          "text": [
            "100%|██████████| 50/50 [01:27<00:00,  1.75s/it]"
          ]
        },
        {
          "output_type": "stream",
          "name": "stdout",
          "text": [
            " EPOCH: 50/50 TRAIN-ACC: 97.75 TRAIN-LOSS: 0.5789 | VAL-ACC: 97.57 VAL-LOSS: 0.5748\n"
          ]
        },
        {
          "output_type": "stream",
          "name": "stderr",
          "text": [
            "\n"
          ]
        }
      ],
      "source": [
        "# device\n",
        "if torch.cuda.is_available():\n",
        "    device = torch.device('cuda') \n",
        "else:\n",
        "    device = torch.device('cpu')\n",
        "\n",
        "originpred = OriginPredictor()\n",
        "\n",
        "model = originpred.to(device)\n",
        "\n",
        "criterion = torch.nn.CrossEntropyLoss()\n",
        "\n",
        "optimizer = torch.optim.Adam(model.parameters(), lr=0.025)\n",
        "\n",
        "trainer = Trainer(model=model,\n",
        "                  device=device,\n",
        "                  criterion=criterion,\n",
        "                  optimizer=optimizer,\n",
        "                  training_DataLoader=dataloader_training,\n",
        "                  validation_DataLoader=dataloader_validation,\n",
        "                  epochs=50)\n",
        "\n",
        "trainer.run_trainer()"
      ]
    },
    {
      "cell_type": "code",
      "source": [
        "'''\n",
        "(For the test dataset)\n",
        "1. For each class a good classified carpet\n",
        "2. For each class if possible a wrongly classified carpet\n",
        "3. Accuracy of the model\n",
        "'''\n",
        "\n",
        "\n",
        "idx = np.random.randint(0,X_test.size(0))\n",
        "\n",
        "model.eval()\n",
        "\n",
        "with torch.no_grad():\n",
        "    out = model(X_test[idx,None].to(device))  # send through model/network\n",
        "\n",
        "\n",
        "out_softmax = torch.softmax(out, dim=1)  # perform softmax on outputs\n",
        "max_index = torch.argmax(out_softmax, dim=1)\n",
        "\n",
        "test_label = oh_to_label(y_test[idx,None])[0]\n",
        "\n",
        "cls_dict = {0: 'Convolushahr', 1:'Transformabad', 2:'Reinforciya'}\n",
        "pred_label = cls_dict[max_index.cpu().numpy()[0]]\n",
        "show_carpet(X_test, idx)\n",
        "print('Carpet from', test_label, 'is predicted as', pred_label)"
      ],
      "metadata": {
        "id": "M88n1UdJGIZs",
        "outputId": "5d1a5c60-9911-4437-bd39-0e1710eab028",
        "colab": {
          "base_uri": "https://localhost:8080/",
          "height": 302
        }
      },
      "id": "M88n1UdJGIZs",
      "execution_count": 119,
      "outputs": [
        {
          "output_type": "stream",
          "name": "stdout",
          "text": [
            "Carpet from Convolushahr is predicted as Convolushahr\n"
          ]
        },
        {
          "output_type": "display_data",
          "data": {
            "text/plain": [
              "<Figure size 640x480 with 1 Axes>"
            ],
            "image/png": "[encoded data removed]"
          },
          "metadata": {}
        }
      ]
    },
    {
      "cell_type": "code",
      "source": [
        "model.eval()\n",
        "with torch.no_grad():\n",
        "    out = model(X_val.to(device))  # send through model/network\n",
        "\n",
        "out_softmax = torch.softmax(out, dim=1)  # perform softmax on outputs\n",
        "max_index_pred = torch.argmax(out_softmax, dim=1)\n",
        "max_index_test = torch.argmax(y_val.to(device), dim=1)\n",
        "pred_correct = torch.sum(max_index_pred == max_index_test)\n",
        "\n",
        "print(f'Accuracy of the model on the validation set: {round(100*pred_correct.cpu().numpy()/len(y_val),2)}%')\n",
        "\n",
        "with torch.no_grad():\n",
        "    out = model(X_test.to(device))  # send through model/network\n",
        "\n",
        "out_softmax = torch.softmax(out, dim=1)  # perform softmax on outputs\n",
        "max_index_pred = torch.argmax(out_softmax, dim=1)\n",
        "max_index_test = torch.argmax(y_test.to(device), dim=1)\n",
        "\n",
        "pred_correct = torch.sum(max_index_pred == max_index_test)\n",
        "\n",
        "print(f'Accuracy of the model on the test set: {round(100*pred_correct.cpu().numpy()/len(y_test),2)}%')"
      ],
      "metadata": {
        "id": "MrQe_pwAPByV",
        "colab": {
          "base_uri": "https://localhost:8080/"
        },
        "outputId": "1525a630-3657-4eba-8db6-f31326d3e920"
      },
      "id": "MrQe_pwAPByV",
      "execution_count": 122,
      "outputs": [
        {
          "output_type": "stream",
          "name": "stdout",
          "text": [
            "Accuracy of the model on the validation set: 97.55%\n",
            "Accuracy of the model on the test set: 98.0%\n"
          ]
        }
      ]
    },
    {
      "cell_type": "markdown",
      "id": "06c5a8d4",
      "metadata": {
        "id": "06c5a8d4"
      },
      "source": [
        "## Task 1: Question 5d"
      ]
    },
    {
      "cell_type": "code",
      "execution_count": null,
      "id": "37e8735b",
      "metadata": {
        "id": "37e8735b"
      },
      "outputs": [],
      "source": []
    },
    {
      "cell_type": "markdown",
      "id": "1e988bc2-6ba1-49cd-ae26-6feea8ad2776",
      "metadata": {
        "id": "1e988bc2-6ba1-49cd-ae26-6feea8ad2776"
      },
      "source": [
        "# Task 2: Carpet Matching "
      ]
    },
    {
      "cell_type": "code",
      "execution_count": null,
      "id": "20a2ce3a-4c8c-4f1f-9a29-113063ce7f74",
      "metadata": {
        "id": "20a2ce3a-4c8c-4f1f-9a29-113063ce7f74"
      },
      "outputs": [],
      "source": [
        "# loading training and testing data for task 2\n",
        "# DO NOT MODIFY\n",
        "task2 = load_numpy_arr_from_url(\"https://github.com/vlamen/tue-deeplearning/blob/main/assignments/assignment_1/task2data.npz?raw=true\")\n",
        "# task2 = np.load('task2data.npz')\n",
        "\n",
        "X = task2['arr_0'].astype(float)\n",
        "y = task2['arr_1'].astype(float)\n",
        "gt = task2['arr_2'].astype(float) # ground truth\n",
        "queries = task2['arr_3'].astype(float)\n",
        "targets = task2['arr_4'].astype(float)\n",
        "\n",
        "print(f\"Carpet train shape: {X.shape}\")\n",
        "print(f\"Label train shape: {y.shape}\")\n",
        "print(f\"Ground truth test shape: {gt.shape}\")\n",
        "print(f\"Query carpets shape: {queries.shape}\")\n",
        "print(f\"Candidate carpets shape: {targets.shape}\")"
      ]
    },
    {
      "cell_type": "code",
      "execution_count": null,
      "id": "fd0cc1db-e473-412e-b6b8-c95adc5438dd",
      "metadata": {
        "id": "fd0cc1db-e473-412e-b6b8-c95adc5438dd"
      },
      "outputs": [],
      "source": [
        "# function to determine performance of model\n",
        "def query_performance(queries, targets, gt, top=1):\n",
        "    assert top >= 1\n",
        "    cnt = 0\n",
        "    for i in range(gt.shape[0]):\n",
        "\n",
        "        q = queries[i][None].float().cuda()\n",
        "        t = targets[i].float().cuda()\n",
        "\n",
        "        with torch.no_grad():\n",
        "            \n",
        "            \n",
        "            ### MODIFY IF NECESSARY ###\n",
        "            emb_q = net(q).cpu().numpy()\n",
        "            emb_t = net(t).cpu().numpy()\n",
        "\n",
        "            dists = cdist(emb_q, emb_t)\n",
        "            \n",
        "            if top == 1:\n",
        "                pred = np.argmin(dists)\n",
        "\n",
        "                if pred == gt[i]:\n",
        "                    cnt += 1\n",
        "            \n",
        "            else:\n",
        "                pred = np.argsort(dists)\n",
        "                if gt[i] in pred[0,:top].tolist():\n",
        "                    cnt+=1\n",
        "    return (100*cnt/gt.shape[0])"
      ]
    },
    {
      "cell_type": "code",
      "execution_count": null,
      "id": "f8c16073-7f5c-4bd4-9c11-c0a321736982",
      "metadata": {
        "id": "f8c16073-7f5c-4bd4-9c11-c0a321736982"
      },
      "outputs": [],
      "source": [
        "###     YOUR CODE FOR TASK 2    ###\n",
        "### ADD MORE CELLS IF NECESSARY ###"
      ]
    },
    {
      "cell_type": "code",
      "execution_count": null,
      "id": "068d5e9c-9fcc-44af-99a8-586c4bfa3c9a",
      "metadata": {
        "id": "068d5e9c-9fcc-44af-99a8-586c4bfa3c9a"
      },
      "outputs": [],
      "source": []
    }
  ],
  "metadata": {
    "colab": {
      "provenance": [],
      "gpuType": "T4",
      "include_colab_link": true
    },
    "kernelspec": {
      "display_name": "Python 3 (ipykernel)",
      "language": "python",
      "name": "python3"
    },
    "language_info": {
      "codemirror_mode": {
        "name": "ipython",
        "version": 3
      },
      "file_extension": ".py",
      "mimetype": "text/x-python",
      "name": "python",
      "nbconvert_exporter": "python",
      "pygments_lexer": "ipython3",
      "version": "3.11.0"
    },
    "accelerator": "GPU",
    "gpuClass": "standard"
  },
  "nbformat": 4,
  "nbformat_minor": 5
}