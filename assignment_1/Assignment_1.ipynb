{
 "cells": [
  {
   "cell_type": "markdown",
   "id": "557bc264",
   "metadata": {
    "colab_type": "text",
    "id": "view-in-github"
   },
   "source": [
    "<a href=\"https://colab.research.google.com/github/vlamen/tue-deeplearning/blob/main/assignments/assignment_1/Assignment_1.ipynb\" target=\"_parent\"><img src=\"https://colab.research.google.com/assets/colab-badge.svg\" alt=\"Open In Colab\"/></a>"
   ]
  },
  {
   "cell_type": "markdown",
   "id": "a4ec9a11-3515-40aa-97ac-73c249df560e",
   "metadata": {
    "id": "a4ec9a11-3515-40aa-97ac-73c249df560e"
   },
   "source": [
    "# Group Number:\n",
    "# Student 1:\n",
    "# Student 2:\n",
    "# Student 3:"
   ]
  },
  {
   "cell_type": "markdown",
   "id": "a8c200a7-b3ab-4c9a-bcf8-320271c040f3",
   "metadata": {
    "id": "a8c200a7-b3ab-4c9a-bcf8-320271c040f3"
   },
   "source": [
    "In case you are using google colab, uncomment the following cell, and modify the ```notebook_dir``` variable to contain the directory this notebook is in. It will automatically download the .py files needed for this assignment"
   ]
  },
  {
   "cell_type": "code",
   "execution_count": null,
   "id": "igFRsZKIC18S",
   "metadata": {
    "id": "igFRsZKIC18S"
   },
   "outputs": [],
   "source": [
    "# # Change the following  line to the directory this notebook is (if using colab)\n",
    "# # In case you do not know the path, open the file navigator on the left in colab\n",
    "# # Find the folder containing this notebook, then press on the three dots --> copy path\n",
    "# notebook_dir = \"/content/drive/MyDrive/Colab Notebooks/\""
   ]
  },
  {
   "cell_type": "code",
   "execution_count": null,
   "id": "828246d4-75b2-42b7-ab06-925e6624f411",
   "metadata": {
    "id": "828246d4-75b2-42b7-ab06-925e6624f411"
   },
   "outputs": [],
   "source": [
    "# # UNCOMMENT IF USING COLAB\n",
    "# from google.colab import drive\n",
    "# import requests\n",
    "# drive.mount('/content/drive')\n",
    "# import sys\n",
    "# import os\n",
    "# sys.path.insert(0, notebook_dir) \n",
    "# os.chdir(notebook_dir)\n",
    "# symco = \"https://github.com/vlamen/tue-deeplearning/blob/main/assignments/assignment_1/symconv.py?raw=true\"\n",
    "# crpt = \"https://github.com/vlamen/tue-deeplearning/blob/main/assignments/assignment_1/carpet.py?raw=true\"\n",
    "# r_s = requests.get(symco, allow_redirects=True)\n",
    "# r_c = requests.get(crpt, allow_redirects=True)\n",
    "# with open('symconv.py', 'wb') as f:\n",
    "#     f.write(r_s.content)\n",
    "# with open('carpet.py', 'wb') as f:\n",
    "#     f.write(r_c.content)"
   ]
  },
  {
   "cell_type": "code",
   "execution_count": null,
   "id": "1c401bd6-3828-4f5e-ada8-a026e0a167bf",
   "metadata": {
    "id": "1c401bd6-3828-4f5e-ada8-a026e0a167bf"
   },
   "outputs": [],
   "source": [
    "import torch\n",
    "import torch.nn as nn\n",
    "import torch.nn.functional as F\n",
    "from torch.utils.data import DataLoader, Dataset, TensorDataset\n",
    "\n",
    "import io\n",
    "import requests\n",
    "\n",
    "import symconv as sc\n",
    "from carpet import show_carpet, oh_to_label\n",
    "\n",
    "import numpy as np\n",
    "import matplotlib.pyplot as plt\n",
    "\n",
    "from scipy.spatial.distance import cdist\n",
    "\n",
    "from tqdm import tqdm"
   ]
  },
  {
   "cell_type": "code",
   "execution_count": null,
   "id": "35c0bcb8-5215-40b3-8ba2-7e4208651c90",
   "metadata": {
    "id": "35c0bcb8-5215-40b3-8ba2-7e4208651c90"
   },
   "outputs": [],
   "source": [
    "def load_numpy_arr_from_url(url):\n",
    "    \"\"\"\n",
    "    Loads a numpy array from surfdrive. \n",
    "    \n",
    "    Input:\n",
    "    url: Download link of dataset \n",
    "    \n",
    "    Outputs:\n",
    "    dataset: numpy array with input features or labels\n",
    "    \"\"\"\n",
    "    \n",
    "    response = requests.get(url)\n",
    "    response.raise_for_status()\n",
    "\n",
    "    return np.load(io.BytesIO(response.content)) "
   ]
  },
  {
   "cell_type": "markdown",
   "id": "045a1fdc-8c84-4829-b8c8-14c957f733f6",
   "metadata": {
    "id": "045a1fdc-8c84-4829-b8c8-14c957f733f6"
   },
   "source": [
    "# Task 1: Pattern Classification"
   ]
  },
  {
   "cell_type": "code",
   "execution_count": null,
   "id": "a45b63ab-610e-4e03-b1da-a717c2a77c8a",
   "metadata": {
    "id": "a45b63ab-610e-4e03-b1da-a717c2a77c8a"
   },
   "outputs": [],
   "source": [
    "# loading training and testing data for task 1\n",
    "# DO NOT MODIFY\n",
    "task1 = load_numpy_arr_from_url(\"https://github.com/vlamen/tue-deeplearning/blob/main/assignments/assignment_1/task1data.npz?raw=true\")\n",
    "# task1 = np.load(\"task1data.npz\")\n",
    "\n",
    "X = torch.tensor(task1['arr_0']).float()\n",
    "y = torch.tensor(task1['arr_1']).float()\n",
    "\n",
    "X_train = X[:7500]\n",
    "X_val = X[7500:9500]\n",
    "X_test = X[9500:]\n",
    "y_train = y[:7500]\n",
    "y_val = y[7500:9500]\n",
    "y_test  = y[9500:]\n",
    "\n",
    "train_dataset = TensorDataset(X_train, y_train)\n",
    "val_dataset = TensorDataset(X_val, y_val)\n",
    "test_dataset = TensorDataset(X_test, y_test)\n",
    "\n",
    "\n",
    "print(f\"Carpet train shape: {X_train.shape}\")\n",
    "print(f\"Label train shape: {y_train.shape}\")\n",
    "print(f\"Carpet validation shape: {X_val.shape}\")\n",
    "print(f\"Label validation shape: {y_val.shape}\")\n",
    "print(f\"Carpet test shape: {X_test.shape}\")\n",
    "print(f\"Label test shape: {y_test.shape}\")"
   ]
  },
  {
   "cell_type": "code",
   "execution_count": null,
   "id": "a4c5553f-023f-48fc-81b5-83184a46a21d",
   "metadata": {
    "id": "a4c5553f-023f-48fc-81b5-83184a46a21d"
   },
   "outputs": [],
   "source": [
    "# random carpet\n",
    "idx = np.random.randint(0,7500)\n",
    "show_carpet(X_train, idx)\n",
    "print('Carpet from', oh_to_label(y_train[idx,None])[0])"
   ]
  },
  {
   "cell_type": "code",
   "execution_count": null,
   "id": "7a5db004-5dbf-42b3-a665-3c97c293d6c5",
   "metadata": {
    "id": "7a5db004-5dbf-42b3-a665-3c97c293d6c5"
   },
   "outputs": [],
   "source": [
    "###     YOUR CODE FOR TASK 1    ###\n",
    "### ADD MORE CELLS IF NECESSARY ###"
   ]
  },
  {
   "cell_type": "markdown",
   "id": "1e988bc2-6ba1-49cd-ae26-6feea8ad2776",
   "metadata": {
    "id": "1e988bc2-6ba1-49cd-ae26-6feea8ad2776"
   },
   "source": [
    "# Task 2: Carpet Matching "
   ]
  },
  {
   "cell_type": "code",
   "execution_count": null,
   "id": "20a2ce3a-4c8c-4f1f-9a29-113063ce7f74",
   "metadata": {
    "id": "20a2ce3a-4c8c-4f1f-9a29-113063ce7f74"
   },
   "outputs": [],
   "source": [
    "# loading training and testing data for task 2\n",
    "# DO NOT MODIFY\n",
    "task2 = load_numpy_arr_from_url(\"https://github.com/vlamen/tue-deeplearning/blob/main/assignments/assignment_1/task2data.npz?raw=true\")\n",
    "# task2 = np.load('task2data.npz')\n",
    "\n",
    "X = task2['arr_0'].astype(float)\n",
    "y = task2['arr_1'].astype(float)\n",
    "gt = task2['arr_2'].astype(float) # ground truth\n",
    "queries = task2['arr_3'].astype(float)\n",
    "targets = task2['arr_4'].astype(float)\n",
    "\n",
    "print(f\"Carpet train shape: {X.shape}\")\n",
    "print(f\"Label train shape: {y.shape}\")\n",
    "print(f\"Ground truth test shape: {gt.shape}\")\n",
    "print(f\"Query carpets shape: {queries.shape}\")\n",
    "print(f\"Candidate carpets shape: {targets.shape}\")"
   ]
  },
  {
   "cell_type": "code",
   "execution_count": null,
   "id": "fd0cc1db-e473-412e-b6b8-c95adc5438dd",
   "metadata": {
    "id": "fd0cc1db-e473-412e-b6b8-c95adc5438dd"
   },
   "outputs": [],
   "source": [
    "# function to determine performance of model\n",
    "def query_performance(queries, targets, gt, top=1):\n",
    "    assert top >= 1\n",
    "    cnt = 0\n",
    "    for i in range(gt.shape[0]):\n",
    "\n",
    "        q = queries[i][None].float().cuda()\n",
    "        t = targets[i].float().cuda()\n",
    "\n",
    "        with torch.no_grad():\n",
    "            \n",
    "            \n",
    "            ### MODIFY IF NECESSARY ###\n",
    "            emb_q = net(q).cpu().numpy()\n",
    "            emb_t = net(t).cpu().numpy()\n",
    "\n",
    "            dists = cdist(emb_q, emb_t)\n",
    "            \n",
    "            if top == 1:\n",
    "                pred = np.argmin(dists)\n",
    "\n",
    "                if pred == gt[i]:\n",
    "                    cnt += 1\n",
    "            \n",
    "            else:\n",
    "                pred = np.argsort(dists)\n",
    "                if gt[i] in pred[0,:top].tolist():\n",
    "                    cnt+=1\n",
    "    return (100*cnt/gt.shape[0])"
   ]
  },
  {
   "cell_type": "code",
   "execution_count": null,
   "id": "f8c16073-7f5c-4bd4-9c11-c0a321736982",
   "metadata": {
    "id": "f8c16073-7f5c-4bd4-9c11-c0a321736982"
   },
   "outputs": [],
   "source": [
    "###     YOUR CODE FOR TASK 2    ###\n",
    "### ADD MORE CELLS IF NECESSARY ###"
   ]
  },
  {
   "cell_type": "code",
   "execution_count": null,
   "id": "068d5e9c-9fcc-44af-99a8-586c4bfa3c9a",
   "metadata": {
    "id": "068d5e9c-9fcc-44af-99a8-586c4bfa3c9a"
   },
   "outputs": [],
   "source": []
  }
 ],
 "metadata": {
  "colab": {
   "include_colab_link": true,
   "provenance": []
  },
  "kernelspec": {
   "display_name": "Python 3 (ipykernel)",
   "language": "python",
   "name": "python3"
  },
  "language_info": {
   "codemirror_mode": {
    "name": "ipython",
    "version": 3
   },
   "file_extension": ".py",
   "mimetype": "text/x-python",
   "name": "python",
   "nbconvert_exporter": "python",
   "pygments_lexer": "ipython3",
   "version": "3.9.13"
  }
 },
 "nbformat": 4,
 "nbformat_minor": 5
}
