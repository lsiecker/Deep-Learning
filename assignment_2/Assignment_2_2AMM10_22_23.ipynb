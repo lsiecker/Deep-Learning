{
  "cells": [
    {
      "cell_type": "markdown",
      "metadata": {
        "id": "view-in-github",
        "colab_type": "text"
      },
      "source": [
        "<a href=\"https://colab.research.google.com/github/lsiecker/Deep-Learning/blob/main/assignment_2/Assignment_2_2AMM10_22_23.ipynb\" target=\"_parent\"><img src=\"https://colab.research.google.com/assets/colab-badge.svg\" alt=\"Open In Colab\"/></a>"
      ]
    },
    {
      "cell_type": "markdown",
      "id": "d32f8d18",
      "metadata": {
        "id": "d32f8d18"
      },
      "source": [
        "# Group Details\n",
        "\n",
        "## Group Name: group21\n",
        "\n",
        "### Student 1: N.P.G.T. van Beuningen\t1353624\n",
        "\n",
        "### Student 2: D.P.M. van der Hoorn\t1873334\n",
        "\n",
        "### Student 3: L.R. Siecker\t1344838"
      ]
    },
    {
      "cell_type": "markdown",
      "id": "faec2056",
      "metadata": {
        "id": "faec2056"
      },
      "source": [
        "# Loading Data and Preliminaries"
      ]
    },
    {
      "cell_type": "code",
      "execution_count": 34,
      "id": "7d0580a5",
      "metadata": {
        "id": "7d0580a5"
      },
      "outputs": [],
      "source": [
        "import io\n",
        "import matplotlib.pyplot as plt\n",
        "import matplotlib\n",
        "import numpy as np\n",
        "import random\n",
        "import requests\n",
        "import time\n",
        "from tqdm.notebook import tqdm, trange\n",
        "\n",
        "import torch\n",
        "from torch import nn, optim\n",
        "from torch.autograd import Variable\n",
        "from torch.cuda.memory import list_gpu_processes\n",
        "from torch.nn.utils.rnn import pad_sequence\n",
        "from torch.optim import lr_scheduler\n",
        "from torch.utils.data import DataLoader, TensorDataset"
      ]
    },
    {
      "cell_type": "code",
      "source": [
        "base_url = \"https://github.com/lsiecker/Deep-Learning/raw/main/assignment_2/data/\""
      ],
      "metadata": {
        "id": "-QWOrWC_Nktn"
      },
      "id": "-QWOrWC_Nktn",
      "execution_count": 35,
      "outputs": []
    },
    {
      "cell_type": "code",
      "source": [
        "def load_data(url, task):\n",
        "    \"\"\"\n",
        "    Loads a numpy array from surfdrive.\n",
        "\n",
        "    Input:\n",
        "    url: Download link of dataset\n",
        "\n",
        "    Outputs:\n",
        "    dataset: numpy array with input features or labels\n",
        "    \"\"\"\n",
        "\n",
        "    response = requests.get(url)\n",
        "    response.raise_for_status()\n",
        "\n",
        "    array = load_array(io.BytesIO(response.content), task)\n",
        "\n",
        "    return array"
      ],
      "metadata": {
        "id": "PhNbEmijMe1p"
      },
      "id": "PhNbEmijMe1p",
      "execution_count": 36,
      "outputs": []
    },
    {
      "cell_type": "markdown",
      "source": [],
      "metadata": {
        "id": "pLOkTq4li8ip"
      },
      "id": "pLOkTq4li8ip"
    },
    {
      "cell_type": "code",
      "execution_count": 37,
      "id": "b0756591",
      "metadata": {
        "id": "b0756591"
      },
      "outputs": [],
      "source": [
        "def load_array(filename, task):\n",
        "    datapoint = np.load(filename)\n",
        "    if task == 'task 1':\n",
        "        initial_state = datapoint['initial_state']\n",
        "        terminal_state = datapoint['terminal_state']\n",
        "        return initial_state, terminal_state\n",
        "    elif task == 'task 2' or task == 'task 3':\n",
        "        whole_trajectory = datapoint['trajectory']\n",
        "        # change shape: (num_bodies, attributes, time) ->  num_bodies, time, attributes\n",
        "        whole_trajectory = np.swapaxes(whole_trajectory, 1, 2)\n",
        "        initial_state = whole_trajectory[:, 0]\n",
        "        target = whole_trajectory[:, 1:, 1:]  # drop the first timepoint (second dim) and mass (last dim) for the prediction task\n",
        "        return initial_state, target\n",
        "    else:\n",
        "        raise NotImplementedError(\"'task' argument should be 'task 1', 'task 2' or 'task 3'!\")\n"
      ]
    },
    {
      "cell_type": "code",
      "execution_count": 38,
      "id": "bb77a4be",
      "metadata": {
        "id": "bb77a4be",
        "outputId": "14eb66fb-eb0d-4e67-deea-ef3e9dd93c53",
        "colab": {
          "base_uri": "https://localhost:8080/"
        }
      },
      "outputs": [
        {
          "output_type": "stream",
          "name": "stdout",
          "text": [
            "shape of initial state (model input): (8, 5)\n",
            "shape of terminal state (to be predicted by model): (8, 2)\n",
            "The initial x-coordinate of the body with index 2 in this trajectory was -5.159721083543527\n"
          ]
        }
      ],
      "source": [
        "\"\"\"\n",
        "This cell gives an example of loading a datapoint with numpy for task 1.\n",
        "\n",
        "The arrays returned by the function are structures as follows:\n",
        "initial_state: shape (n_bodies, [mass, x, y, v_x, v_y])\n",
        "terminal_state: shape (n_bodies, [x, y])\n",
        "\n",
        "\"\"\"\n",
        "\n",
        "example = load_data(f\"{base_url}task%201/train/trajectory_0.npz?raw=true\", task='task 1')\n",
        "\n",
        "initial_state, terminal_state = example\n",
        "print(f'shape of initial state (model input): {initial_state.shape}')\n",
        "print(f'shape of terminal state (to be predicted by model): {terminal_state.shape}')\n",
        "\n",
        "body_idx = 2\n",
        "print(f'The initial x-coordinate of the body with index {body_idx} in this trajectory was {initial_state[body_idx, 1]}')"
      ]
    },
    {
      "cell_type": "code",
      "execution_count": 39,
      "id": "1c3ea4cb",
      "metadata": {
        "id": "1c3ea4cb",
        "outputId": "6f78c83b-a704-41f3-8835-7dafaaf9bb40",
        "colab": {
          "base_uri": "https://localhost:8080/"
        }
      },
      "outputs": [
        {
          "output_type": "stream",
          "name": "stdout",
          "text": [
            "shape of initial state (model input): (8, 5)\n",
            "shape of terminal state (to be predicted by model): (8, 49, 4)\n",
            "The y-coordinate of the body with index 2 at time with index 30 in remaining_trajectory was -0.3861544940435097\n",
            "the shape of the input of a test data example is (8, 5)\n",
            "the shape of the target of a test data example is (8, 49, 4)\n",
            "values of the test data example at time 30:\n",
            " [[-1.11611543  3.21149953         nan         nan]\n",
            " [-0.2865083   4.30801877         nan         nan]\n",
            " [ 1.07701594 -8.12529269         nan         nan]\n",
            " [-0.92053478  3.13709551         nan         nan]\n",
            " [-3.96308297 -4.27733589         nan         nan]\n",
            " [ 2.33945401 -8.67733599         nan         nan]\n",
            " [-4.83949085  3.67854952         nan         nan]\n",
            " [ 0.31080159 -9.74720071         nan         nan]]\n",
            "note: velocity values are unobserved (NaNs) in the test data!\n"
          ]
        }
      ],
      "source": [
        "\"\"\"\n",
        "This cell gives an example of loading a datapoint with numpy for task 2 / 3.\n",
        "\n",
        "The arrays returned by the function are structures as follows:\n",
        "initial_state: shape (n_bodies, [mass, x, y, v_x, v_y])\n",
        "remaining_trajectory: shape (n_bodies, time, [x, y, v_x, v_y])\n",
        "\n",
        "Note that for this task, you are asked to evaluate performance only with regard to the predictions of the positions (x and y).\n",
        "If you use the velocity of the remaining trajectory for training,\n",
        "this use should be purely auxiliary for the goal of predicting the positions [x,y] over time.\n",
        "While testing performance of your model on the test set, you do not have access to v_x and v_y of the remaining trajectory.\n",
        "\n",
        "\"\"\"\n",
        "\n",
        "example = load_data(f'{base_url}task%202_3/train/trajectory_0.npz', task='task 2')\n",
        "\n",
        "initial_state, remaining_trajectory = example\n",
        "print(f'shape of initial state (model input): {initial_state.shape}')\n",
        "print(f'shape of terminal state (to be predicted by model): {remaining_trajectory.shape}')\n",
        "\n",
        "body_idx = 2\n",
        "time_idx = 30\n",
        "print(f'The y-coordinate of the body with index {body_idx} at time with index {time_idx} in remaining_trajectory was {remaining_trajectory[body_idx, time_idx, 1]}')\n",
        "\n",
        "test_example = load_data(f'{base_url}task 2_3/test/trajectory_900.npz', task='task 3')\n",
        "test_initial_state, test_remaining_trajectory = test_example\n",
        "print(f'the shape of the input of a test data example is {test_initial_state.shape}')\n",
        "print(f'the shape of the target of a test data example is {test_remaining_trajectory.shape}')\n",
        "print(f'values of the test data example at time {time_idx}:\\n {test_remaining_trajectory[:, time_idx]}')\n",
        "print('note: velocity values are unobserved (NaNs) in the test data!')"
      ]
    },
    {
      "cell_type": "markdown",
      "source": [
        "# Task **1**"
      ],
      "metadata": {
        "id": "XTN_Ug4wNBoG"
      },
      "id": "XTN_Ug4wNBoG"
    },
    {
      "cell_type": "markdown",
      "id": "059b633c",
      "metadata": {
        "id": "059b633c"
      },
      "source": [
        "## Data Handling and Preprocessing"
      ]
    },
    {
      "cell_type": "code",
      "source": [
        "import pickle\n",
        "from google.colab import drive\n",
        "\n",
        "drive.mount('/content/drive')\n",
        "destination_file = '/content/drive/MyDrive/'\n",
        "\n",
        "def save_dataset(dataset, filename):\n",
        "  \"Saves dataset into file on Google Drive\"\n",
        "  filename = destination_file + filename\n",
        "  with open(filename, 'wb') as file:\n",
        "     pickle.dump(dataset, file)\n",
        "  print(f\"Dataset saved to {filename}.\")\n",
        "\n",
        "def load_dataset(filename):\n",
        "  \"Loades dataset from file on Google Drive\"\n",
        "  filename = destination_file + filename\n",
        "  with open(filename, 'rb') as file:\n",
        "      dataset = pickle.load(file)\n",
        "  return dataset"
      ],
      "metadata": {
        "colab": {
          "base_uri": "https://localhost:8080/"
        },
        "id": "eLzUjo2qFY9A",
        "outputId": "62213617-5293-4178-a518-571505c28f7e"
      },
      "id": "eLzUjo2qFY9A",
      "execution_count": 40,
      "outputs": [
        {
          "output_type": "stream",
          "name": "stdout",
          "text": [
            "Drive already mounted at /content/drive; to attempt to forcibly remount, call drive.mount(\"/content/drive\", force_remount=True).\n"
          ]
        }
      ]
    },
    {
      "cell_type": "code",
      "source": [
        "\"\"\" Get all training data by trying to load a dataset file from Google Drive, if it fails then load from GitHub (slower) \"\"\"\n",
        "try:\n",
        "  train_data = load_dataset(\"train_data\")\n",
        "except:\n",
        "  train_data = []\n",
        "  for i in trange(0,900):\n",
        "    train_data.append(load_data(f\"{base_url}task%201/train/trajectory_{i}.npz?raw=true\", task='task 1'))\n",
        "  save_dataset(train_data, \"train_data\")"
      ],
      "metadata": {
        "id": "56ebOaDPlIrR",
        "colab": {
          "base_uri": "https://localhost:8080/",
          "height": 67,
          "referenced_widgets": [
            "5c135e8831a040499ee8e501481195d5",
            "87a31f2de3fa4f00840fc6afe7c64205",
            "fc8c622ac4b049ee8c4ab7279bbed1cb",
            "5fec53bc63cc4e0ca0b7504bc9337758",
            "58cba575d87443749a4e382778fff095",
            "01732dfa2f864eb68d9791bafe87beda",
            "1ac2ff1605224d21b7a38b48d98d1ed9",
            "179cd10e0a574333a24cf8db15c44ab4",
            "1d465045373848a7ae0b69ef7f22c1ee",
            "ed594da769914a5fb70a5f2ce4c9983b",
            "ce32810517994750a1a3b10a6e9a6d27"
          ]
        },
        "outputId": "2a35d6a9-edce-4be0-ab00-697117e32ee9"
      },
      "id": "56ebOaDPlIrR",
      "execution_count": 41,
      "outputs": [
        {
          "output_type": "display_data",
          "data": {
            "text/plain": [
              "  0%|          | 0/900 [00:00<?, ?it/s]"
            ],
            "application/vnd.jupyter.widget-view+json": {
              "version_major": 2,
              "version_minor": 0,
              "model_id": "5c135e8831a040499ee8e501481195d5"
            }
          },
          "metadata": {}
        },
        {
          "output_type": "stream",
          "name": "stdout",
          "text": [
            "Dataset saved to /content/drive/MyDrive/train_data.\n"
          ]
        }
      ]
    },
    {
      "cell_type": "code",
      "source": [
        "\"\"\" Get all test data by trying to load a dataset file from Google Drive, if it fails then load from GitHub (slower) \"\"\"\n",
        "try:\n",
        "  train_data = load_dataset(\"test_data\")\n",
        "except:\n",
        "  test_data = []\n",
        "  for i in trange(900, 1000):\n",
        "    test_data.append(load_data(f\"{base_url}task%201/test/trajectory_{i}.npz?raw=true\", task='task 1'))\n",
        "  save_dataset(test_data, \"test_data\")"
      ],
      "metadata": {
        "id": "u6POghJBqf1n",
        "colab": {
          "base_uri": "https://localhost:8080/",
          "height": 67,
          "referenced_widgets": [
            "30c3efe50b8144cd86d984eca39aff3e",
            "0f193774040c4afaa59bbcbb3fd7a50f",
            "ca189d0b5a424c5d9f4f2260b4685efc",
            "61b2f4dea8bb4254b23de7cc1e03bc19",
            "d0ea3861680746e1a8d98321330b4a2e",
            "8b0fb11713ff4801a4043e201ac40f73",
            "8759a1cf3a8240ff948a3941af74069a",
            "1a21f7bf80be4f0f9fe696b81f004810",
            "bacab1b548b444b89b2e36f7c0a3e1eb",
            "65134d963b7945639b547c57e22e0746",
            "326aeb3d5e834112b84a66059a8ba3fc"
          ]
        },
        "outputId": "716791e7-1899-4b0b-cb6a-3c6e07523939"
      },
      "id": "u6POghJBqf1n",
      "execution_count": 42,
      "outputs": [
        {
          "output_type": "display_data",
          "data": {
            "text/plain": [
              "  0%|          | 0/100 [00:00<?, ?it/s]"
            ],
            "application/vnd.jupyter.widget-view+json": {
              "version_major": 2,
              "version_minor": 0,
              "model_id": "30c3efe50b8144cd86d984eca39aff3e"
            }
          },
          "metadata": {}
        },
        {
          "output_type": "stream",
          "name": "stdout",
          "text": [
            "Dataset saved to /content/drive/MyDrive/test_data.\n"
          ]
        }
      ]
    },
    {
      "cell_type": "code",
      "source": [
        "\"\"\" Create training, validation and test sets \"\"\"\n",
        "train_dataset = [(torch.tensor(array[0]), torch.tensor(array[1])) for array in train_data[:800]]\n",
        "val_dataset = [(torch.tensor(array[0]), torch.tensor(array[1])) for array in train_data[800:]]\n",
        "test_dataset = [(torch.tensor(array[0]), torch.tensor(array[1])) for array in test_data]"
      ],
      "metadata": {
        "id": "MODD-LJEliIN"
      },
      "id": "MODD-LJEliIN",
      "execution_count": 43,
      "outputs": []
    },
    {
      "cell_type": "code",
      "source": [
        "def collate_batch(batch):\n",
        "    \"\"\"\n",
        "    Concatenate multiple datapoints to obtain a single batch of data\n",
        "    \"\"\"\n",
        "    # arrays are stored as tuples; get respective lists\n",
        "    source_points = [x[0] for x in batch]\n",
        "    target_points = [x[1] for x in batch]\n",
        "\n",
        "    # pad sequences in batch\n",
        "    source_padded = pad_sequence(sequences = source_points,\n",
        "                             batch_first = True)\n",
        "    target_padded = pad_sequence(sequences = target_points,\n",
        "                             batch_first = True)\n",
        "\n",
        "    return source_padded.to(device), target_padded.to(device)\n",
        "\n",
        "train_dataloader = DataLoader(train_dataset, batch_size=5, collate_fn=collate_batch)\n",
        "val_dataloader = DataLoader(val_dataset, batch_size=5, collate_fn=collate_batch)\n",
        "test_dataloader = DataLoader(test_dataset, batch_size=5, collate_fn=collate_batch)"
      ],
      "metadata": {
        "id": "M9UWHZergZE7"
      },
      "id": "M9UWHZergZE7",
      "execution_count": 92,
      "outputs": []
    },
    {
      "cell_type": "markdown",
      "source": [],
      "metadata": {
        "id": "0OPHpH69XdQl"
      },
      "id": "0OPHpH69XdQl"
    },
    {
      "cell_type": "markdown",
      "id": "18b2874d",
      "metadata": {
        "id": "18b2874d"
      },
      "source": [
        "## Model Implementation"
      ]
    },
    {
      "cell_type": "code",
      "source": [
        "class Encoder(nn.Module):\n",
        "    def __init__(self, emb_dim, hid_dim, n_layers, dropout):\n",
        "        super().__init__()\n",
        "\n",
        "        self.hid_dim = hid_dim\n",
        "        self.n_layers = n_layers\n",
        "\n",
        "        self.rnn = nn.LSTM(emb_dim, hid_dim, n_layers, dropout = dropout)\n",
        "\n",
        "        self.dropout = nn.Dropout(dropout)\n",
        "\n",
        "        self.double()\n",
        "\n",
        "\n",
        "    def forward(self, src):\n",
        "        \"\"\"\n",
        "        Forward pass of encoder model. It aims at\n",
        "        transforming the input sentence to a dense vector\n",
        "        \"\"\"\n",
        "\n",
        "        output, _ = self.rnn(src)\n",
        "\n",
        "        return output"
      ],
      "metadata": {
        "id": "UbfrfWZgAw7f"
      },
      "id": "UbfrfWZgAw7f",
      "execution_count": 121,
      "outputs": []
    },
    {
      "cell_type": "code",
      "source": [
        "class Decoder(nn.Module):\n",
        "    def __init__(self, output_size, hid_dim, n_layers, dropout):\n",
        "        super().__init__()\n",
        "\n",
        "        self.hid_dim = hid_dim\n",
        "        self.n_layers = n_layers\n",
        "\n",
        "        self.rnn = nn.LSTM(hid_dim, hid_dim, n_layers, dropout = dropout)\n",
        "\n",
        "        self.fc_out = nn.Linear(hid_dim, output_size)\n",
        "\n",
        "        self.dropout = nn.Dropout(dropout)\n",
        "\n",
        "        self.double()\n",
        "\n",
        "\n",
        "    def forward(self, input):\n",
        "        \"\"\"\n",
        "        Forward pass of the decoder model. It aims at transforming\n",
        "        the dense representation of the encoder into a sequence that is\n",
        "        used for position prediction\n",
        "        \"\"\"\n",
        "\n",
        "        output, _ = self.rnn(input)\n",
        "        prediction = self.fc_out(output)\n",
        "\n",
        "        return prediction"
      ],
      "metadata": {
        "id": "vNXVspTGAw-H"
      },
      "id": "vNXVspTGAw-H",
      "execution_count": 122,
      "outputs": []
    },
    {
      "cell_type": "code",
      "execution_count": 154,
      "id": "ba598378",
      "metadata": {
        "id": "ba598378"
      },
      "outputs": [],
      "source": [
        "class TrainPointPredictor(nn.Module):\n",
        "    def __init__(self, encoder, decoder, device):\n",
        "        super().__init__()\n",
        "\n",
        "        self.encoder = encoder\n",
        "        self.decoder = decoder\n",
        "        self.device = device\n",
        "\n",
        "        self.criterion = nn.MSELoss()\n",
        "\n",
        "        self.double()\n",
        "\n",
        "\n",
        "    def forward(self, source_points, target_points):\n",
        "        \"\"\"\n",
        "        Forward pass of the seq2seq model. It encodes the source sentence into\n",
        "        a dense representation and thereafter transduces into the target\n",
        "        sentence.\n",
        "\n",
        "        Inputs:\n",
        "        src: padded index representation of source sentences with shape [src len, batch size]\n",
        "        trg:  padded index representation of target sentences with shape [trg len, batch size]\n",
        "\n",
        "        Outputs:\n",
        "        output:\n",
        "        \"\"\"\n",
        "\n",
        "        #last hidden state of the encoder is used as the initial hidden state of the decoder\n",
        "        input = self.encoder(source_points)\n",
        "        output = self.decoder(input)\n",
        "\n",
        "        return output\n"
      ]
    },
    {
      "cell_type": "code",
      "execution_count": 126,
      "id": "95154df7",
      "metadata": {
        "id": "95154df7"
      },
      "outputs": [],
      "source": [
        "def train(dataloader, log_interval):\n",
        "\n",
        "  model.train()\n",
        "\n",
        "  total_count = 0\n",
        "  start_time = time.time()\n",
        "  for idx, (trajectory_points, target_points) in enumerate(tqdm(dataloader)):\n",
        "        trajectory_points = trajectory_points.to(device)\n",
        "        target_points = target_points.to(device)\n",
        "\n",
        "        model.optimizer.zero_grad()\n",
        "        y_pred = model(trajectory_points, target_points)\n",
        "\n",
        "        loss = model.criterion(y_pred, target_points)\n",
        "        loss.backward()\n",
        "\n",
        "        model.optimizer.step()\n",
        "        total_count += target_points.size(0) * 35\n",
        "\n",
        "\n",
        "        if idx % log_interval == 0 and idx > 0:\n",
        "            elapsed = time.time() - start_time\n",
        "            print('| epoch {:3d} | {:5d}/{:5d} batches '\n",
        "                  '| loss {:8.3f}'.format(epoch, idx, len(dataloader),\n",
        "                                              loss))\n",
        "            total_count = 0\n",
        "            start_time = time.time()\n",
        "\n",
        "  return loss\n",
        "\n",
        "def evaluate(dataloader):\n",
        "    model.eval()\n",
        "    total_count = 0\n",
        "\n",
        "    with torch.no_grad():\n",
        "        for idx, (trajectory_points, target_points) in enumerate(tqdm(dataloader)):\n",
        "\n",
        "            trajectory_points = trajectory_points.to(device)\n",
        "            target_points = target_points.to(device)\n",
        "\n",
        "            y_pred = model(trajectory_points, target_points)\n",
        "\n",
        "            loss = model.criterion(y_pred, target_points)\n",
        "            total_count += target_points.size(0) * 35\n",
        "\n",
        "    return loss"
      ]
    },
    {
      "cell_type": "markdown",
      "id": "dea70d73",
      "metadata": {
        "id": "dea70d73"
      },
      "source": [
        "## Model Training"
      ]
    },
    {
      "cell_type": "code",
      "execution_count": 51,
      "id": "e95af5f9",
      "metadata": {
        "id": "e95af5f9"
      },
      "outputs": [],
      "source": [
        "OUTPUT_SIZE = 2 # Length of output sequence\n",
        "EMB_DIM = 5 # Length of input sequence (input for RNN layer)\n",
        "\n",
        "# HYPERPARAMETERS TO TUNE\n",
        "EPOCHS = 300 #  BEST: 100\n",
        "DROPOUT = 0.5 #  BEST: 0.0\n",
        "N_LAYERS = 1 # Number of RNN layers  BEST: 2\n",
        "HIDDEN_DIM = 16 # Dimension of the lstm's hidden state (Embedding)  BEST: 64\n",
        "LEARNING_RATE = 1e-2 #  BEST: 0.1\n",
        "\n",
        "device = torch.device(\"cuda:0\" if torch.cuda.is_available() else \"cpu\")\n",
        "\n",
        "enc = Encoder(emb_dim=EMB_DIM, hid_dim=HIDDEN_DIM, n_layers=N_LAYERS, dropout=DROPOUT)\n",
        "dec = Decoder(output_size=OUTPUT_SIZE, hid_dim=HIDDEN_DIM, n_layers=N_LAYERS, dropout=DROPOUT)\n",
        "\n",
        "model = TrainPointPredictor(enc, dec, device).to(device)\n",
        "model.optimizer = optim.SGD(model.parameters(), lr=LEARNING_RATE)\n",
        "scheduler = lr_scheduler.LinearLR(model.optimizer, start_factor=1, end_factor=0.5, total_iters=EPOCHS)\n",
        "\n",
        "train_loss, val_loss = [], []\n",
        "# training loop\n",
        "for epoch in range(1, EPOCHS + 1):\n",
        "    epoch_start_time = time.time()\n",
        "\n",
        "    train_loss.append(train(train_dataloader, 500))\n",
        "    val_loss.append(evaluate(val_dataloader))\n",
        "\n",
        "    print('-' * 59)\n",
        "    print('| end of epoch {:3d} | time: {:5.2f}s | '\n",
        "          'train loss {:8.3f} '\n",
        "          'validation loss {:8.3f} '.format(epoch,\n",
        "                                           time.time() - epoch_start_time,\n",
        "                                           train_loss[-1],\n",
        "                                           val_loss[-1]))\n",
        "    print('-' * 59)\n",
        "    scheduler.step()"
      ]
    },
    {
      "cell_type": "code",
      "execution_count": 51,
      "id": "07e03ddf",
      "metadata": {
        "id": "07e03ddf"
      },
      "outputs": [],
      "source": []
    },
    {
      "cell_type": "markdown",
      "id": "d5fb3b29",
      "metadata": {
        "id": "d5fb3b29"
      },
      "source": [
        "## Evaluation"
      ]
    },
    {
      "cell_type": "code",
      "execution_count": 52,
      "id": "bf5fa1b4",
      "metadata": {
        "id": "bf5fa1b4"
      },
      "outputs": [],
      "source": [
        "#todo"
      ]
    },
    {
      "cell_type": "code",
      "execution_count": 52,
      "id": "2280031f",
      "metadata": {
        "id": "2280031f"
      },
      "outputs": [],
      "source": []
    },
    {
      "cell_type": "code",
      "execution_count": 52,
      "id": "3a8240f1",
      "metadata": {
        "id": "3a8240f1"
      },
      "outputs": [],
      "source": []
    },
    {
      "cell_type": "markdown",
      "source": [
        "# Task **2**"
      ],
      "metadata": {
        "id": "zscir61wNPq-"
      },
      "id": "zscir61wNPq-"
    },
    {
      "cell_type": "markdown",
      "metadata": {
        "id": "GA5o3OwsNPq-"
      },
      "source": [
        "## Data Handling and Preprocessing"
      ],
      "id": "GA5o3OwsNPq-"
    },
    {
      "cell_type": "code",
      "source": [
        "\"\"\" Get all training data by trying to load a dataset file from Google Drive, if it fails then load from GitHub (slower) \"\"\"\n",
        "try:\n",
        "  train_data = load_dataset(\"train_data_task23\")\n",
        "except:\n",
        "  train_data = []\n",
        "  for i in trange(0,900):\n",
        "    train_data.append(load_data(f\"{base_url}task%202_3/train/trajectory_{i}.npz?raw=true\", task='task 2'))\n",
        "  save_dataset(train_data, \"train_data_task23\")"
      ],
      "metadata": {
        "colab": {
          "base_uri": "https://localhost:8080/",
          "height": 67,
          "referenced_widgets": [
            "92e59e49cf9a450aa4ff7f2ad9257878",
            "71c6a5a7ead7451ab14303f540f4f005",
            "bc3169ca4d7b4e2b8fb2204161c5eec9",
            "c4024089eb844133b6bf9bc804c5aba6",
            "3ed98736f5ef4c248b2de5572fe0add6",
            "a0c54c727e7946259591b28343c44f6b",
            "a8cd2d6de8d14a60a7186196ea154c53",
            "aa264a113e484e37ad97b63acd99f85d",
            "aefea3fac3204713b2a8330c5994a31f",
            "da121806305e41d39df69af77a99c12e",
            "be65db21a0c149bd894c3c4f71be4ad6"
          ]
        },
        "outputId": "f40fc39f-38bf-4592-b05d-a8909b0e8836",
        "id": "FWSySKQnZdGU"
      },
      "execution_count": 171,
      "outputs": [
        {
          "output_type": "display_data",
          "data": {
            "text/plain": [
              "  0%|          | 0/900 [00:00<?, ?it/s]"
            ],
            "application/vnd.jupyter.widget-view+json": {
              "version_major": 2,
              "version_minor": 0,
              "model_id": "92e59e49cf9a450aa4ff7f2ad9257878"
            }
          },
          "metadata": {}
        },
        {
          "output_type": "stream",
          "name": "stdout",
          "text": [
            "Dataset saved to /content/drive/MyDrive/train_data_task23.\n"
          ]
        }
      ],
      "id": "FWSySKQnZdGU"
    },
    {
      "cell_type": "code",
      "source": [
        "\"\"\" Get all test data by trying to load a dataset file from Google Drive, if it fails then load from GitHub (slower) \"\"\"\n",
        "try:\n",
        "  train_data = load_dataset(\"test_data_task23\")\n",
        "except:\n",
        "  test_data = []\n",
        "  for i in trange(900, 1000):\n",
        "    test_data.append(load_data(f\"{base_url}task%202_3/test/trajectory_{i}.npz?raw=true\", task='task 2'))\n",
        "  save_dataset(test_data, \"test_data_task23\")"
      ],
      "metadata": {
        "colab": {
          "base_uri": "https://localhost:8080/",
          "height": 67,
          "referenced_widgets": [
            "013db9e35b4c460aa390d7961937456f",
            "a908ee1a959743fab90d0badafcb2938",
            "8349ab52447d425db330d217b0484318",
            "507888bfac17499e8c2b45f655d57018",
            "64f814aa187648a6a2b0de12dfab98ab",
            "521cb6cd145041e4bdfc658b548b11e6",
            "ac92a46875ee4df19df9cba7d41e07df",
            "457f6f81e2024b668deeca3a86a0305b",
            "451d312a418642f08e6fdba856ad5033",
            "681ab9ee4cb44ed59548827e8ab1c14d",
            "8556719f0ad543a29eae4c2da0eeab1d"
          ]
        },
        "outputId": "2a658632-8772-4c54-ac99-ef319444148e",
        "id": "sTiePdsIZdGV"
      },
      "execution_count": 172,
      "outputs": [
        {
          "output_type": "display_data",
          "data": {
            "text/plain": [
              "  0%|          | 0/100 [00:00<?, ?it/s]"
            ],
            "application/vnd.jupyter.widget-view+json": {
              "version_major": 2,
              "version_minor": 0,
              "model_id": "013db9e35b4c460aa390d7961937456f"
            }
          },
          "metadata": {}
        },
        {
          "output_type": "stream",
          "name": "stdout",
          "text": [
            "Dataset saved to /content/drive/MyDrive/test_data_task23.\n"
          ]
        }
      ],
      "id": "sTiePdsIZdGV"
    },
    {
      "cell_type": "code",
      "source": [
        "\"\"\" Create training, validation and test sets \"\"\"\n",
        "train_dataset = [(torch.tensor(array[0]), torch.tensor(array[1])) for array in train_data[:800]]\n",
        "val_dataset = [(torch.tensor(array[0]), torch.tensor(array[1])) for array in train_data[800:]]\n",
        "test_dataset = [(torch.tensor(array[0]), torch.tensor(array[1])) for array in test_data]"
      ],
      "metadata": {
        "id": "mHxI0yJiapFB"
      },
      "execution_count": 173,
      "outputs": [],
      "id": "mHxI0yJiapFB"
    },
    {
      "cell_type": "code",
      "source": [
        "def collate_batch(batch):\n",
        "    \"\"\"\n",
        "    Concatenate multiple datapoints to obtain a single batch of data\n",
        "    \"\"\"\n",
        "    # arrays are stored as tuples; get respective lists\n",
        "    source_points = [x[0] for x in batch]\n",
        "    target_points = [x[1] for x in batch]\n",
        "\n",
        "    # pad sequences in batch (might add .flatten())\n",
        "    source_padded = pad_sequence(sequences = source_points,\n",
        "                             batch_first = True)\n",
        "    target_padded = pad_sequence(sequences = target_points,\n",
        "                             batch_first = True)\n",
        "\n",
        "    return source_padded.to(device), target_padded.to(device)\n",
        "\n",
        "train_dataloader = DataLoader(train_dataset, batch_size=5, collate_fn=collate_batch)\n",
        "val_dataloader = DataLoader(val_dataset, batch_size=5, collate_fn=collate_batch)\n",
        "test_dataloader = DataLoader(test_dataset, batch_size=5, collate_fn=collate_batch)"
      ],
      "metadata": {
        "id": "QRG66n40apFH"
      },
      "execution_count": 174,
      "outputs": [],
      "id": "QRG66n40apFH"
    },
    {
      "cell_type": "markdown",
      "metadata": {
        "id": "CBddgkOCNPq_"
      },
      "source": [
        "## Model Implementation"
      ],
      "id": "CBddgkOCNPq_"
    },
    {
      "cell_type": "code",
      "source": [
        "class Encoder(nn.Module):\n",
        "    def __init__(self, emb_dim, hid_dim, n_layers, dropout):\n",
        "        super().__init__()\n",
        "\n",
        "        self.hid_dim = hid_dim\n",
        "        self.n_layers = n_layers\n",
        "\n",
        "        self.rnn = nn.LSTM(emb_dim, hid_dim, n_layers, dropout = dropout)\n",
        "\n",
        "        self.dropout = nn.Dropout(dropout)\n",
        "\n",
        "        self.double()\n",
        "\n",
        "\n",
        "    def forward(self, src):\n",
        "        \"\"\"\n",
        "        Forward pass of encoder model. It aims at\n",
        "        transforming the input sequence to a dense vector\n",
        "        \"\"\"\n",
        "\n",
        "        output, _ = self.rnn(src)\n",
        "\n",
        "        return output"
      ],
      "metadata": {
        "id": "mLkLJROxfTU0"
      },
      "id": "mLkLJROxfTU0",
      "execution_count": null,
      "outputs": []
    },
    {
      "cell_type": "code",
      "source": [
        "class Decoder(nn.Module):\n",
        "    def __init__(self, output_size, hid_dim, n_layers, dropout):\n",
        "        super().__init__()\n",
        "\n",
        "        self.hid_dim = hid_dim\n",
        "        self.n_layers = n_layers\n",
        "\n",
        "        self.rnn = nn.LSTM(hid_dim, hid_dim, n_layers, dropout = dropout)\n",
        "\n",
        "        self.fc_out = nn.Linear(hid_dim, output_size)\n",
        "\n",
        "        self.dropout = nn.Dropout(dropout)\n",
        "\n",
        "        self.double()\n",
        "\n",
        "\n",
        "    def forward(self, input):\n",
        "        \"\"\"\n",
        "        Forward pass of the decoder model. It aims at transforming\n",
        "        the dense representation of the encoder into a sequence that is\n",
        "        used for positions predictions\n",
        "        \"\"\"\n",
        "\n",
        "        output, _ = self.rnn(input)\n",
        "\n",
        "        prediction = self.fc_out(output)\n",
        "\n",
        "        return prediction"
      ],
      "metadata": {
        "id": "Y5LqR4KhfhCp"
      },
      "id": "Y5LqR4KhfhCp",
      "execution_count": null,
      "outputs": []
    },
    {
      "cell_type": "code",
      "execution_count": 181,
      "metadata": {
        "id": "ed5riNqMNPq_"
      },
      "outputs": [],
      "source": [
        "class TrainPointPredictor(nn.Module):\n",
        "    def __init__(self, encoder, decoder, device):\n",
        "        super().__init__()\n",
        "\n",
        "        self.encoder = encoder\n",
        "        self.decoder = decoder\n",
        "        self.device = device\n",
        "\n",
        "        self.criterion = nn.MSELoss()\n",
        "\n",
        "        self.double()\n",
        "\n",
        "\n",
        "    def forward(self, source_points, target_points):\n",
        "        \"\"\"\n",
        "        Forward pass of the seq2seq model. It encodes the source sentence into\n",
        "        a dense representation and thereafter transduces into the target\n",
        "        sentence.\n",
        "\n",
        "        Inputs:\n",
        "        src: padded index representation of source sentences with shape [src len, batch size]\n",
        "        trg:  padded index representation of target sentences with shape [trg len, batch size]\n",
        "        teacher_forcing_ratio: probability to use teacher forcing, e.g. 0.5 we use ground-truth target sentence 50% of the time\n",
        "\n",
        "        Outputs:\n",
        "        outputs:\n",
        "        \"\"\"\n",
        "\n",
        "        #last hidden state of the encoder is used as the initial hidden state of the decoder\n",
        "        input = self.encoder(source_points)\n",
        "        output = self.decoder(input)\n",
        "\n",
        "        return output"
      ],
      "id": "ed5riNqMNPq_"
    },
    {
      "cell_type": "code",
      "execution_count": 186,
      "metadata": {
        "id": "Yx_mTiE2NPq_"
      },
      "outputs": [],
      "source": [
        "def train(dataloader, log_interval):\n",
        "\n",
        "  model.train()\n",
        "\n",
        "  start_time = time.time()\n",
        "  for idx, (trajectory_points, target_points) in enumerate(tqdm(dataloader)):\n",
        "        trajectory_points = trajectory_points.to(device)\n",
        "        target_points = target_points.to(device)\n",
        "\n",
        "        model.optimizer.zero_grad()\n",
        "        y_pred = model(trajectory_points, target_points)\n",
        "        loss = model.criterion(y_pred, target_points)\n",
        "        loss.backward()\n",
        "\n",
        "        model.optimizer.step()\n",
        "\n",
        "\n",
        "        if idx % log_interval == 0 and idx > 0:\n",
        "            elapsed = time.time() - start_time\n",
        "            print('| epoch {:3d} | {:5d}/{:5d} batches '\n",
        "                  '| loss {:8.3f}'.format(epoch, idx, len(dataloader),\n",
        "                                              loss))\n",
        "            start_time = time.time()\n",
        "\n",
        "  return loss\n",
        "\n",
        "def evaluate(dataloader):\n",
        "    model.eval()\n",
        "\n",
        "    with torch.no_grad():\n",
        "        for idx, (trajectory_points, target_points) in enumerate(tqdm(dataloader)):\n",
        "\n",
        "            trajectory_points = trajectory_points.to(device)\n",
        "            target_points = target_points.to(device)\n",
        "\n",
        "            y_pred = model(trajectory_points, target_points)\n",
        "\n",
        "            loss = model.criterion(y_pred, target_points)\n",
        "\n",
        "    return loss"
      ],
      "id": "Yx_mTiE2NPq_"
    },
    {
      "cell_type": "markdown",
      "metadata": {
        "id": "Bk0mwW_MNPq_"
      },
      "source": [
        "## Model Training"
      ],
      "id": "Bk0mwW_MNPq_"
    },
    {
      "cell_type": "code",
      "execution_count": 187,
      "metadata": {
        "id": "BeLdvBlzNPq_",
        "colab": {
          "base_uri": "https://localhost:8080/",
          "height": 558,
          "referenced_widgets": [
            "11c09910099a4d7d97a85cc458de1db7",
            "3d1f134ccd634cef9cc05cc5127d6a9a",
            "4e427f696eca4712b0ac53974fafc82b",
            "b994e9cffe544e8aba04200e2d35bd02",
            "83ddc9d653ec41dab5609794289c1b29",
            "72a1f7b5142e4c71b91a55f9991cdf86",
            "b0d705f9491b46068ef5fcf9aae33bac",
            "c57cb4c4006e4aa0b80f1961ef78959b",
            "a3e1ff686471456ca231aebd61a3536e",
            "f80d923b2d9d4e09976f0ffe52d7d748",
            "60f168d2b3b24eceac2c49af9f03bbdf"
          ]
        },
        "outputId": "ac56307e-5fe7-4218-ee5f-66096d81b8ec"
      },
      "outputs": [
        {
          "output_type": "stream",
          "name": "stderr",
          "text": [
            "/usr/local/lib/python3.10/dist-packages/torch/nn/modules/rnn.py:71: UserWarning: dropout option adds dropout after all but last recurrent layer, so non-zero dropout expects num_layers greater than 1, but got dropout=0.5 and num_layers=1\n",
            "  warnings.warn(\"dropout option adds dropout after all but last \"\n"
          ]
        },
        {
          "output_type": "display_data",
          "data": {
            "text/plain": [
              "  0%|          | 0/160 [00:00<?, ?it/s]"
            ],
            "application/vnd.jupyter.widget-view+json": {
              "version_major": 2,
              "version_minor": 0,
              "model_id": "11c09910099a4d7d97a85cc458de1db7"
            }
          },
          "metadata": {}
        },
        {
          "output_type": "stream",
          "name": "stdout",
          "text": [
            "torch.Size([5, 9, 4])\n",
            "torch.Size([5, 9, 49, 4])\n"
          ]
        },
        {
          "output_type": "stream",
          "name": "stderr",
          "text": [
            "/usr/local/lib/python3.10/dist-packages/torch/nn/modules/loss.py:536: UserWarning: Using a target size (torch.Size([5, 9, 49, 4])) that is different to the input size (torch.Size([5, 9, 4])). This will likely lead to incorrect results due to broadcasting. Please ensure they have the same size.\n",
            "  return F.mse_loss(input, target, reduction=self.reduction)\n"
          ]
        },
        {
          "output_type": "error",
          "ename": "RuntimeError",
          "evalue": "ignored",
          "traceback": [
            "\u001b[0;31m---------------------------------------------------------------------------\u001b[0m",
            "\u001b[0;31mRuntimeError\u001b[0m                              Traceback (most recent call last)",
            "\u001b[0;32m<ipython-input-187-6d4b9ab076a4>\u001b[0m in \u001b[0;36m<cell line: 25>\u001b[0;34m()\u001b[0m\n\u001b[1;32m     26\u001b[0m     \u001b[0mepoch_start_time\u001b[0m \u001b[0;34m=\u001b[0m \u001b[0mtime\u001b[0m\u001b[0;34m.\u001b[0m\u001b[0mtime\u001b[0m\u001b[0;34m(\u001b[0m\u001b[0;34m)\u001b[0m\u001b[0;34m\u001b[0m\u001b[0;34m\u001b[0m\u001b[0m\n\u001b[1;32m     27\u001b[0m \u001b[0;34m\u001b[0m\u001b[0m\n\u001b[0;32m---> 28\u001b[0;31m     \u001b[0mtrain_loss\u001b[0m\u001b[0;34m.\u001b[0m\u001b[0mappend\u001b[0m\u001b[0;34m(\u001b[0m\u001b[0mtrain\u001b[0m\u001b[0;34m(\u001b[0m\u001b[0mtrain_dataloader\u001b[0m\u001b[0;34m,\u001b[0m \u001b[0;36m500\u001b[0m\u001b[0;34m)\u001b[0m\u001b[0;34m)\u001b[0m\u001b[0;34m\u001b[0m\u001b[0;34m\u001b[0m\u001b[0m\n\u001b[0m\u001b[1;32m     29\u001b[0m     \u001b[0mval_loss\u001b[0m\u001b[0;34m.\u001b[0m\u001b[0mappend\u001b[0m\u001b[0;34m(\u001b[0m\u001b[0mevaluate\u001b[0m\u001b[0;34m(\u001b[0m\u001b[0mval_dataloader\u001b[0m\u001b[0;34m)\u001b[0m\u001b[0;34m)\u001b[0m\u001b[0;34m\u001b[0m\u001b[0;34m\u001b[0m\u001b[0m\n\u001b[1;32m     30\u001b[0m \u001b[0;34m\u001b[0m\u001b[0m\n",
            "\u001b[0;32m<ipython-input-186-24c35870acf3>\u001b[0m in \u001b[0;36mtrain\u001b[0;34m(dataloader, log_interval)\u001b[0m\n\u001b[1;32m     13\u001b[0m         \u001b[0mprint\u001b[0m\u001b[0;34m(\u001b[0m\u001b[0my_pred\u001b[0m\u001b[0;34m.\u001b[0m\u001b[0mshape\u001b[0m\u001b[0;34m)\u001b[0m\u001b[0;34m\u001b[0m\u001b[0;34m\u001b[0m\u001b[0m\n\u001b[1;32m     14\u001b[0m         \u001b[0mprint\u001b[0m\u001b[0;34m(\u001b[0m\u001b[0mtarget_points\u001b[0m\u001b[0;34m.\u001b[0m\u001b[0mshape\u001b[0m\u001b[0;34m)\u001b[0m\u001b[0;34m\u001b[0m\u001b[0;34m\u001b[0m\u001b[0m\n\u001b[0;32m---> 15\u001b[0;31m         \u001b[0mloss\u001b[0m \u001b[0;34m=\u001b[0m \u001b[0mmodel\u001b[0m\u001b[0;34m.\u001b[0m\u001b[0mcriterion\u001b[0m\u001b[0;34m(\u001b[0m\u001b[0my_pred\u001b[0m\u001b[0;34m,\u001b[0m \u001b[0mtarget_points\u001b[0m\u001b[0;34m)\u001b[0m\u001b[0;34m\u001b[0m\u001b[0;34m\u001b[0m\u001b[0m\n\u001b[0m\u001b[1;32m     16\u001b[0m         \u001b[0mloss\u001b[0m\u001b[0;34m.\u001b[0m\u001b[0mbackward\u001b[0m\u001b[0;34m(\u001b[0m\u001b[0;34m)\u001b[0m\u001b[0;34m\u001b[0m\u001b[0;34m\u001b[0m\u001b[0m\n\u001b[1;32m     17\u001b[0m \u001b[0;34m\u001b[0m\u001b[0m\n",
            "\u001b[0;32m/usr/local/lib/python3.10/dist-packages/torch/nn/modules/module.py\u001b[0m in \u001b[0;36m_call_impl\u001b[0;34m(self, *args, **kwargs)\u001b[0m\n\u001b[1;32m   1499\u001b[0m                 \u001b[0;32mor\u001b[0m \u001b[0m_global_backward_pre_hooks\u001b[0m \u001b[0;32mor\u001b[0m \u001b[0m_global_backward_hooks\u001b[0m\u001b[0;34m\u001b[0m\u001b[0;34m\u001b[0m\u001b[0m\n\u001b[1;32m   1500\u001b[0m                 or _global_forward_hooks or _global_forward_pre_hooks):\n\u001b[0;32m-> 1501\u001b[0;31m             \u001b[0;32mreturn\u001b[0m \u001b[0mforward_call\u001b[0m\u001b[0;34m(\u001b[0m\u001b[0;34m*\u001b[0m\u001b[0margs\u001b[0m\u001b[0;34m,\u001b[0m \u001b[0;34m**\u001b[0m\u001b[0mkwargs\u001b[0m\u001b[0;34m)\u001b[0m\u001b[0;34m\u001b[0m\u001b[0;34m\u001b[0m\u001b[0m\n\u001b[0m\u001b[1;32m   1502\u001b[0m         \u001b[0;31m# Do not call functions when jit is used\u001b[0m\u001b[0;34m\u001b[0m\u001b[0;34m\u001b[0m\u001b[0m\n\u001b[1;32m   1503\u001b[0m         \u001b[0mfull_backward_hooks\u001b[0m\u001b[0;34m,\u001b[0m \u001b[0mnon_full_backward_hooks\u001b[0m \u001b[0;34m=\u001b[0m \u001b[0;34m[\u001b[0m\u001b[0;34m]\u001b[0m\u001b[0;34m,\u001b[0m \u001b[0;34m[\u001b[0m\u001b[0;34m]\u001b[0m\u001b[0;34m\u001b[0m\u001b[0;34m\u001b[0m\u001b[0m\n",
            "\u001b[0;32m/usr/local/lib/python3.10/dist-packages/torch/nn/modules/loss.py\u001b[0m in \u001b[0;36mforward\u001b[0;34m(self, input, target)\u001b[0m\n\u001b[1;32m    534\u001b[0m \u001b[0;34m\u001b[0m\u001b[0m\n\u001b[1;32m    535\u001b[0m     \u001b[0;32mdef\u001b[0m \u001b[0mforward\u001b[0m\u001b[0;34m(\u001b[0m\u001b[0mself\u001b[0m\u001b[0;34m,\u001b[0m \u001b[0minput\u001b[0m\u001b[0;34m:\u001b[0m \u001b[0mTensor\u001b[0m\u001b[0;34m,\u001b[0m \u001b[0mtarget\u001b[0m\u001b[0;34m:\u001b[0m \u001b[0mTensor\u001b[0m\u001b[0;34m)\u001b[0m \u001b[0;34m->\u001b[0m \u001b[0mTensor\u001b[0m\u001b[0;34m:\u001b[0m\u001b[0;34m\u001b[0m\u001b[0;34m\u001b[0m\u001b[0m\n\u001b[0;32m--> 536\u001b[0;31m         \u001b[0;32mreturn\u001b[0m \u001b[0mF\u001b[0m\u001b[0;34m.\u001b[0m\u001b[0mmse_loss\u001b[0m\u001b[0;34m(\u001b[0m\u001b[0minput\u001b[0m\u001b[0;34m,\u001b[0m \u001b[0mtarget\u001b[0m\u001b[0;34m,\u001b[0m \u001b[0mreduction\u001b[0m\u001b[0;34m=\u001b[0m\u001b[0mself\u001b[0m\u001b[0;34m.\u001b[0m\u001b[0mreduction\u001b[0m\u001b[0;34m)\u001b[0m\u001b[0;34m\u001b[0m\u001b[0;34m\u001b[0m\u001b[0m\n\u001b[0m\u001b[1;32m    537\u001b[0m \u001b[0;34m\u001b[0m\u001b[0m\n\u001b[1;32m    538\u001b[0m \u001b[0;34m\u001b[0m\u001b[0m\n",
            "\u001b[0;32m/usr/local/lib/python3.10/dist-packages/torch/nn/functional.py\u001b[0m in \u001b[0;36mmse_loss\u001b[0;34m(input, target, size_average, reduce, reduction)\u001b[0m\n\u001b[1;32m   3292\u001b[0m         \u001b[0mreduction\u001b[0m \u001b[0;34m=\u001b[0m \u001b[0m_Reduction\u001b[0m\u001b[0;34m.\u001b[0m\u001b[0mlegacy_get_string\u001b[0m\u001b[0;34m(\u001b[0m\u001b[0msize_average\u001b[0m\u001b[0;34m,\u001b[0m \u001b[0mreduce\u001b[0m\u001b[0;34m)\u001b[0m\u001b[0;34m\u001b[0m\u001b[0;34m\u001b[0m\u001b[0m\n\u001b[1;32m   3293\u001b[0m \u001b[0;34m\u001b[0m\u001b[0m\n\u001b[0;32m-> 3294\u001b[0;31m     \u001b[0mexpanded_input\u001b[0m\u001b[0;34m,\u001b[0m \u001b[0mexpanded_target\u001b[0m \u001b[0;34m=\u001b[0m \u001b[0mtorch\u001b[0m\u001b[0;34m.\u001b[0m\u001b[0mbroadcast_tensors\u001b[0m\u001b[0;34m(\u001b[0m\u001b[0minput\u001b[0m\u001b[0;34m,\u001b[0m \u001b[0mtarget\u001b[0m\u001b[0;34m)\u001b[0m\u001b[0;34m\u001b[0m\u001b[0;34m\u001b[0m\u001b[0m\n\u001b[0m\u001b[1;32m   3295\u001b[0m     \u001b[0;32mreturn\u001b[0m \u001b[0mtorch\u001b[0m\u001b[0;34m.\u001b[0m\u001b[0m_C\u001b[0m\u001b[0;34m.\u001b[0m\u001b[0m_nn\u001b[0m\u001b[0;34m.\u001b[0m\u001b[0mmse_loss\u001b[0m\u001b[0;34m(\u001b[0m\u001b[0mexpanded_input\u001b[0m\u001b[0;34m,\u001b[0m \u001b[0mexpanded_target\u001b[0m\u001b[0;34m,\u001b[0m \u001b[0m_Reduction\u001b[0m\u001b[0;34m.\u001b[0m\u001b[0mget_enum\u001b[0m\u001b[0;34m(\u001b[0m\u001b[0mreduction\u001b[0m\u001b[0;34m)\u001b[0m\u001b[0;34m)\u001b[0m\u001b[0;34m\u001b[0m\u001b[0;34m\u001b[0m\u001b[0m\n\u001b[1;32m   3296\u001b[0m \u001b[0;34m\u001b[0m\u001b[0m\n",
            "\u001b[0;32m/usr/local/lib/python3.10/dist-packages/torch/functional.py\u001b[0m in \u001b[0;36mbroadcast_tensors\u001b[0;34m(*tensors)\u001b[0m\n\u001b[1;32m     72\u001b[0m     \u001b[0;32mif\u001b[0m \u001b[0mhas_torch_function\u001b[0m\u001b[0;34m(\u001b[0m\u001b[0mtensors\u001b[0m\u001b[0;34m)\u001b[0m\u001b[0;34m:\u001b[0m\u001b[0;34m\u001b[0m\u001b[0;34m\u001b[0m\u001b[0m\n\u001b[1;32m     73\u001b[0m         \u001b[0;32mreturn\u001b[0m \u001b[0mhandle_torch_function\u001b[0m\u001b[0;34m(\u001b[0m\u001b[0mbroadcast_tensors\u001b[0m\u001b[0;34m,\u001b[0m \u001b[0mtensors\u001b[0m\u001b[0;34m,\u001b[0m \u001b[0;34m*\u001b[0m\u001b[0mtensors\u001b[0m\u001b[0;34m)\u001b[0m\u001b[0;34m\u001b[0m\u001b[0;34m\u001b[0m\u001b[0m\n\u001b[0;32m---> 74\u001b[0;31m     \u001b[0;32mreturn\u001b[0m \u001b[0m_VF\u001b[0m\u001b[0;34m.\u001b[0m\u001b[0mbroadcast_tensors\u001b[0m\u001b[0;34m(\u001b[0m\u001b[0mtensors\u001b[0m\u001b[0;34m)\u001b[0m  \u001b[0;31m# type: ignore[attr-defined]\u001b[0m\u001b[0;34m\u001b[0m\u001b[0;34m\u001b[0m\u001b[0m\n\u001b[0m\u001b[1;32m     75\u001b[0m \u001b[0;34m\u001b[0m\u001b[0m\n\u001b[1;32m     76\u001b[0m \u001b[0;34m\u001b[0m\u001b[0m\n",
            "\u001b[0;31mRuntimeError\u001b[0m: The size of tensor a (9) must match the size of tensor b (49) at non-singleton dimension 2"
          ]
        }
      ],
      "source": [
        "OUTPUT_SIZE = 4 # Length of output sequence\n",
        "EMB_DIM = 5 # Length of input sequence (input for RNN layer)\n",
        "\n",
        "# HYPERPARAMETERS TO TUNE\n",
        "EPOCHS = 300 #  BEST: 100\n",
        "DROPOUT = 0.5 #  BEST: 0.0\n",
        "N_LAYERS = 1 # Number of RNN layers  BEST: 2\n",
        "HIDDEN_DIM = 16 # Dimension of the lstm's hidden state (Embedding)  BEST: 64\n",
        "LEARNING_RATE = 1e-2 #  BEST: 0.1\n",
        "\n",
        "device = torch.device(\"cuda:0\" if torch.cuda.is_available() else \"cpu\")\n",
        "\n",
        "enc = Encoder(emb_dim=EMB_DIM, hid_dim=HIDDEN_DIM, n_layers=N_LAYERS, dropout=DROPOUT)\n",
        "dec = Decoder(output_size=OUTPUT_SIZE, hid_dim=HIDDEN_DIM, n_layers=N_LAYERS, dropout=DROPOUT)\n",
        "\n",
        "model = TrainPointPredictor(enc, dec, device).to(device)\n",
        "model.optimizer = optim.SGD(model.parameters(), lr=LEARNING_RATE)\n",
        "scheduler = lr_scheduler.LinearLR(model.optimizer, start_factor=1, end_factor=0.5, total_iters=EPOCHS)\n",
        "\n",
        "train_loss, val_loss = [], []\n",
        "# training loop\n",
        "for epoch in range(1, EPOCHS + 1):\n",
        "    epoch_start_time = time.time()\n",
        "\n",
        "    train_loss.append(train(train_dataloader, 500))\n",
        "    val_loss.append(evaluate(val_dataloader))\n",
        "\n",
        "    print('-' * 59)\n",
        "    print('| end of epoch {:3d} | time: {:5.2f}s | '\n",
        "          'train loss {:8.3f} '\n",
        "          'validation loss {:8.3f} '.format(epoch,\n",
        "                                           time.time() - epoch_start_time,\n",
        "                                           train_loss[-1],\n",
        "                                           val_loss[-1]))\n",
        "    print('-' * 59)\n",
        "    scheduler.step()"
      ],
      "id": "BeLdvBlzNPq_"
    },
    {
      "cell_type": "code",
      "execution_count": 55,
      "metadata": {
        "id": "vH7NfGo_NPrA"
      },
      "outputs": [],
      "source": [],
      "id": "vH7NfGo_NPrA"
    },
    {
      "cell_type": "markdown",
      "metadata": {
        "id": "SXONKz3BNPrA"
      },
      "source": [
        "## Evaluation"
      ],
      "id": "SXONKz3BNPrA"
    },
    {
      "cell_type": "code",
      "execution_count": 56,
      "metadata": {
        "id": "gHUaCY69NPrA"
      },
      "outputs": [],
      "source": [
        "#todo"
      ],
      "id": "gHUaCY69NPrA"
    },
    {
      "cell_type": "code",
      "execution_count": 56,
      "metadata": {
        "id": "u-Zuv88WNPrA"
      },
      "outputs": [],
      "source": [],
      "id": "u-Zuv88WNPrA"
    },
    {
      "cell_type": "code",
      "execution_count": 56,
      "metadata": {
        "id": "g9R4m3FfNPrA"
      },
      "outputs": [],
      "source": [],
      "id": "g9R4m3FfNPrA"
    },
    {
      "cell_type": "markdown",
      "source": [
        "# Task **3**"
      ],
      "metadata": {
        "id": "3BBkYM98NQ2n"
      },
      "id": "3BBkYM98NQ2n"
    },
    {
      "cell_type": "markdown",
      "metadata": {
        "id": "R74UD15nNQ2u"
      },
      "source": [
        "## Data Handling and Preprocessing"
      ],
      "id": "R74UD15nNQ2u"
    },
    {
      "cell_type": "code",
      "execution_count": 57,
      "metadata": {
        "id": "UtTgTtATNQ2u"
      },
      "outputs": [],
      "source": [
        "#todo"
      ],
      "id": "UtTgTtATNQ2u"
    },
    {
      "cell_type": "code",
      "execution_count": 57,
      "metadata": {
        "id": "SIiFNKSdNQ2u"
      },
      "outputs": [],
      "source": [],
      "id": "SIiFNKSdNQ2u"
    },
    {
      "cell_type": "code",
      "execution_count": 57,
      "metadata": {
        "id": "t-dHrZe1NQ2u"
      },
      "outputs": [],
      "source": [],
      "id": "t-dHrZe1NQ2u"
    },
    {
      "cell_type": "markdown",
      "metadata": {
        "id": "Ux93FaRNNQ2u"
      },
      "source": [
        "## Model Implementation"
      ],
      "id": "Ux93FaRNNQ2u"
    },
    {
      "cell_type": "code",
      "execution_count": 58,
      "metadata": {
        "id": "OKmPXlKVNQ2u"
      },
      "outputs": [],
      "source": [
        "#todo"
      ],
      "id": "OKmPXlKVNQ2u"
    },
    {
      "cell_type": "code",
      "execution_count": 58,
      "metadata": {
        "id": "odGl5mAJNQ2u"
      },
      "outputs": [],
      "source": [],
      "id": "odGl5mAJNQ2u"
    },
    {
      "cell_type": "code",
      "execution_count": 58,
      "metadata": {
        "id": "ttow-qaZNQ2u"
      },
      "outputs": [],
      "source": [],
      "id": "ttow-qaZNQ2u"
    },
    {
      "cell_type": "markdown",
      "metadata": {
        "id": "5inw0JHbNQ2v"
      },
      "source": [
        "## Model Training"
      ],
      "id": "5inw0JHbNQ2v"
    },
    {
      "cell_type": "code",
      "execution_count": 59,
      "metadata": {
        "id": "VK3Fy9oyNQ2v"
      },
      "outputs": [],
      "source": [
        "#todo"
      ],
      "id": "VK3Fy9oyNQ2v"
    },
    {
      "cell_type": "code",
      "execution_count": 59,
      "metadata": {
        "id": "AXW-7sOhNQ2v"
      },
      "outputs": [],
      "source": [],
      "id": "AXW-7sOhNQ2v"
    },
    {
      "cell_type": "code",
      "execution_count": 59,
      "metadata": {
        "id": "APgtOl2vNQ2v"
      },
      "outputs": [],
      "source": [],
      "id": "APgtOl2vNQ2v"
    },
    {
      "cell_type": "markdown",
      "metadata": {
        "id": "kQ75b5zENQ2v"
      },
      "source": [
        "## Evaluation"
      ],
      "id": "kQ75b5zENQ2v"
    },
    {
      "cell_type": "code",
      "execution_count": 60,
      "metadata": {
        "id": "RRvbQKryNQ2v"
      },
      "outputs": [],
      "source": [
        "#todo"
      ],
      "id": "RRvbQKryNQ2v"
    },
    {
      "cell_type": "code",
      "execution_count": 60,
      "metadata": {
        "id": "FhT9U3qoNQ2v"
      },
      "outputs": [],
      "source": [],
      "id": "FhT9U3qoNQ2v"
    },
    {
      "cell_type": "code",
      "execution_count": 60,
      "metadata": {
        "id": "FmKWcGcENQ2v"
      },
      "outputs": [],
      "source": [],
      "id": "FmKWcGcENQ2v"
    }
  ],
  "metadata": {
    "kernelspec": {
      "display_name": "Python 3",
      "name": "python3"
    },
    "language_info": {
      "codemirror_mode": {
        "name": "ipython",
        "version": 3
      },
      "file_extension": ".py",
      "mimetype": "text/x-python",
      "name": "python",
      "nbconvert_exporter": "python",
      "pygments_lexer": "ipython3",
      "version": "3.8.8"
    },
    "colab": {
      "provenance": [],
      "collapsed_sections": [
        "3BBkYM98NQ2n"
      ],
      "toc_visible": true,
      "gpuType": "T4",
      "include_colab_link": true
    },
    "widgets": {
      "application/vnd.jupyter.widget-state+json": {
        "5c135e8831a040499ee8e501481195d5": {
          "model_module": "@jupyter-widgets/controls",
          "model_name": "HBoxModel",
          "model_module_version": "1.5.0",
          "state": {
            "_dom_classes": [],
            "_model_module": "@jupyter-widgets/controls",
            "_model_module_version": "1.5.0",
            "_model_name": "HBoxModel",
            "_view_count": null,
            "_view_module": "@jupyter-widgets/controls",
            "_view_module_version": "1.5.0",
            "_view_name": "HBoxView",
            "box_style": "",
            "children": [
              "IPY_MODEL_87a31f2de3fa4f00840fc6afe7c64205",
              "IPY_MODEL_fc8c622ac4b049ee8c4ab7279bbed1cb",
              "IPY_MODEL_5fec53bc63cc4e0ca0b7504bc9337758"
            ],
            "layout": "IPY_MODEL_58cba575d87443749a4e382778fff095"
          }
        },
        "87a31f2de3fa4f00840fc6afe7c64205": {
          "model_module": "@jupyter-widgets/controls",
          "model_name": "HTMLModel",
          "model_module_version": "1.5.0",
          "state": {
            "_dom_classes": [],
            "_model_module": "@jupyter-widgets/controls",
            "_model_module_version": "1.5.0",
            "_model_name": "HTMLModel",
            "_view_count": null,
            "_view_module": "@jupyter-widgets/controls",
            "_view_module_version": "1.5.0",
            "_view_name": "HTMLView",
            "description": "",
            "description_tooltip": null,
            "layout": "IPY_MODEL_01732dfa2f864eb68d9791bafe87beda",
            "placeholder": "​",
            "style": "IPY_MODEL_1ac2ff1605224d21b7a38b48d98d1ed9",
            "value": "100%"
          }
        },
        "fc8c622ac4b049ee8c4ab7279bbed1cb": {
          "model_module": "@jupyter-widgets/controls",
          "model_name": "FloatProgressModel",
          "model_module_version": "1.5.0",
          "state": {
            "_dom_classes": [],
            "_model_module": "@jupyter-widgets/controls",
            "_model_module_version": "1.5.0",
            "_model_name": "FloatProgressModel",
            "_view_count": null,
            "_view_module": "@jupyter-widgets/controls",
            "_view_module_version": "1.5.0",
            "_view_name": "ProgressView",
            "bar_style": "success",
            "description": "",
            "description_tooltip": null,
            "layout": "IPY_MODEL_179cd10e0a574333a24cf8db15c44ab4",
            "max": 900,
            "min": 0,
            "orientation": "horizontal",
            "style": "IPY_MODEL_1d465045373848a7ae0b69ef7f22c1ee",
            "value": 900
          }
        },
        "5fec53bc63cc4e0ca0b7504bc9337758": {
          "model_module": "@jupyter-widgets/controls",
          "model_name": "HTMLModel",
          "model_module_version": "1.5.0",
          "state": {
            "_dom_classes": [],
            "_model_module": "@jupyter-widgets/controls",
            "_model_module_version": "1.5.0",
            "_model_name": "HTMLModel",
            "_view_count": null,
            "_view_module": "@jupyter-widgets/controls",
            "_view_module_version": "1.5.0",
            "_view_name": "HTMLView",
            "description": "",
            "description_tooltip": null,
            "layout": "IPY_MODEL_ed594da769914a5fb70a5f2ce4c9983b",
            "placeholder": "​",
            "style": "IPY_MODEL_ce32810517994750a1a3b10a6e9a6d27",
            "value": " 900/900 [04:27&lt;00:00,  3.20it/s]"
          }
        },
        "58cba575d87443749a4e382778fff095": {
          "model_module": "@jupyter-widgets/base",
          "model_name": "LayoutModel",
          "model_module_version": "1.2.0",
          "state": {
            "_model_module": "@jupyter-widgets/base",
            "_model_module_version": "1.2.0",
            "_model_name": "LayoutModel",
            "_view_count": null,
            "_view_module": "@jupyter-widgets/base",
            "_view_module_version": "1.2.0",
            "_view_name": "LayoutView",
            "align_content": null,
            "align_items": null,
            "align_self": null,
            "border": null,
            "bottom": null,
            "display": null,
            "flex": null,
            "flex_flow": null,
            "grid_area": null,
            "grid_auto_columns": null,
            "grid_auto_flow": null,
            "grid_auto_rows": null,
            "grid_column": null,
            "grid_gap": null,
            "grid_row": null,
            "grid_template_areas": null,
            "grid_template_columns": null,
            "grid_template_rows": null,
            "height": null,
            "justify_content": null,
            "justify_items": null,
            "left": null,
            "margin": null,
            "max_height": null,
            "max_width": null,
            "min_height": null,
            "min_width": null,
            "object_fit": null,
            "object_position": null,
            "order": null,
            "overflow": null,
            "overflow_x": null,
            "overflow_y": null,
            "padding": null,
            "right": null,
            "top": null,
            "visibility": null,
            "width": null
          }
        },
        "01732dfa2f864eb68d9791bafe87beda": {
          "model_module": "@jupyter-widgets/base",
          "model_name": "LayoutModel",
          "model_module_version": "1.2.0",
          "state": {
            "_model_module": "@jupyter-widgets/base",
            "_model_module_version": "1.2.0",
            "_model_name": "LayoutModel",
            "_view_count": null,
            "_view_module": "@jupyter-widgets/base",
            "_view_module_version": "1.2.0",
            "_view_name": "LayoutView",
            "align_content": null,
            "align_items": null,
            "align_self": null,
            "border": null,
            "bottom": null,
            "display": null,
            "flex": null,
            "flex_flow": null,
            "grid_area": null,
            "grid_auto_columns": null,
            "grid_auto_flow": null,
            "grid_auto_rows": null,
            "grid_column": null,
            "grid_gap": null,
            "grid_row": null,
            "grid_template_areas": null,
            "grid_template_columns": null,
            "grid_template_rows": null,
            "height": null,
            "justify_content": null,
            "justify_items": null,
            "left": null,
            "margin": null,
            "max_height": null,
            "max_width": null,
            "min_height": null,
            "min_width": null,
            "object_fit": null,
            "object_position": null,
            "order": null,
            "overflow": null,
            "overflow_x": null,
            "overflow_y": null,
            "padding": null,
            "right": null,
            "top": null,
            "visibility": null,
            "width": null
          }
        },
        "1ac2ff1605224d21b7a38b48d98d1ed9": {
          "model_module": "@jupyter-widgets/controls",
          "model_name": "DescriptionStyleModel",
          "model_module_version": "1.5.0",
          "state": {
            "_model_module": "@jupyter-widgets/controls",
            "_model_module_version": "1.5.0",
            "_model_name": "DescriptionStyleModel",
            "_view_count": null,
            "_view_module": "@jupyter-widgets/base",
            "_view_module_version": "1.2.0",
            "_view_name": "StyleView",
            "description_width": ""
          }
        },
        "179cd10e0a574333a24cf8db15c44ab4": {
          "model_module": "@jupyter-widgets/base",
          "model_name": "LayoutModel",
          "model_module_version": "1.2.0",
          "state": {
            "_model_module": "@jupyter-widgets/base",
            "_model_module_version": "1.2.0",
            "_model_name": "LayoutModel",
            "_view_count": null,
            "_view_module": "@jupyter-widgets/base",
            "_view_module_version": "1.2.0",
            "_view_name": "LayoutView",
            "align_content": null,
            "align_items": null,
            "align_self": null,
            "border": null,
            "bottom": null,
            "display": null,
            "flex": null,
            "flex_flow": null,
            "grid_area": null,
            "grid_auto_columns": null,
            "grid_auto_flow": null,
            "grid_auto_rows": null,
            "grid_column": null,
            "grid_gap": null,
            "grid_row": null,
            "grid_template_areas": null,
            "grid_template_columns": null,
            "grid_template_rows": null,
            "height": null,
            "justify_content": null,
            "justify_items": null,
            "left": null,
            "margin": null,
            "max_height": null,
            "max_width": null,
            "min_height": null,
            "min_width": null,
            "object_fit": null,
            "object_position": null,
            "order": null,
            "overflow": null,
            "overflow_x": null,
            "overflow_y": null,
            "padding": null,
            "right": null,
            "top": null,
            "visibility": null,
            "width": null
          }
        },
        "1d465045373848a7ae0b69ef7f22c1ee": {
          "model_module": "@jupyter-widgets/controls",
          "model_name": "ProgressStyleModel",
          "model_module_version": "1.5.0",
          "state": {
            "_model_module": "@jupyter-widgets/controls",
            "_model_module_version": "1.5.0",
            "_model_name": "ProgressStyleModel",
            "_view_count": null,
            "_view_module": "@jupyter-widgets/base",
            "_view_module_version": "1.2.0",
            "_view_name": "StyleView",
            "bar_color": null,
            "description_width": ""
          }
        },
        "ed594da769914a5fb70a5f2ce4c9983b": {
          "model_module": "@jupyter-widgets/base",
          "model_name": "LayoutModel",
          "model_module_version": "1.2.0",
          "state": {
            "_model_module": "@jupyter-widgets/base",
            "_model_module_version": "1.2.0",
            "_model_name": "LayoutModel",
            "_view_count": null,
            "_view_module": "@jupyter-widgets/base",
            "_view_module_version": "1.2.0",
            "_view_name": "LayoutView",
            "align_content": null,
            "align_items": null,
            "align_self": null,
            "border": null,
            "bottom": null,
            "display": null,
            "flex": null,
            "flex_flow": null,
            "grid_area": null,
            "grid_auto_columns": null,
            "grid_auto_flow": null,
            "grid_auto_rows": null,
            "grid_column": null,
            "grid_gap": null,
            "grid_row": null,
            "grid_template_areas": null,
            "grid_template_columns": null,
            "grid_template_rows": null,
            "height": null,
            "justify_content": null,
            "justify_items": null,
            "left": null,
            "margin": null,
            "max_height": null,
            "max_width": null,
            "min_height": null,
            "min_width": null,
            "object_fit": null,
            "object_position": null,
            "order": null,
            "overflow": null,
            "overflow_x": null,
            "overflow_y": null,
            "padding": null,
            "right": null,
            "top": null,
            "visibility": null,
            "width": null
          }
        },
        "ce32810517994750a1a3b10a6e9a6d27": {
          "model_module": "@jupyter-widgets/controls",
          "model_name": "DescriptionStyleModel",
          "model_module_version": "1.5.0",
          "state": {
            "_model_module": "@jupyter-widgets/controls",
            "_model_module_version": "1.5.0",
            "_model_name": "DescriptionStyleModel",
            "_view_count": null,
            "_view_module": "@jupyter-widgets/base",
            "_view_module_version": "1.2.0",
            "_view_name": "StyleView",
            "description_width": ""
          }
        },
        "30c3efe50b8144cd86d984eca39aff3e": {
          "model_module": "@jupyter-widgets/controls",
          "model_name": "HBoxModel",
          "model_module_version": "1.5.0",
          "state": {
            "_dom_classes": [],
            "_model_module": "@jupyter-widgets/controls",
            "_model_module_version": "1.5.0",
            "_model_name": "HBoxModel",
            "_view_count": null,
            "_view_module": "@jupyter-widgets/controls",
            "_view_module_version": "1.5.0",
            "_view_name": "HBoxView",
            "box_style": "",
            "children": [
              "IPY_MODEL_0f193774040c4afaa59bbcbb3fd7a50f",
              "IPY_MODEL_ca189d0b5a424c5d9f4f2260b4685efc",
              "IPY_MODEL_61b2f4dea8bb4254b23de7cc1e03bc19"
            ],
            "layout": "IPY_MODEL_d0ea3861680746e1a8d98321330b4a2e"
          }
        },
        "0f193774040c4afaa59bbcbb3fd7a50f": {
          "model_module": "@jupyter-widgets/controls",
          "model_name": "HTMLModel",
          "model_module_version": "1.5.0",
          "state": {
            "_dom_classes": [],
            "_model_module": "@jupyter-widgets/controls",
            "_model_module_version": "1.5.0",
            "_model_name": "HTMLModel",
            "_view_count": null,
            "_view_module": "@jupyter-widgets/controls",
            "_view_module_version": "1.5.0",
            "_view_name": "HTMLView",
            "description": "",
            "description_tooltip": null,
            "layout": "IPY_MODEL_8b0fb11713ff4801a4043e201ac40f73",
            "placeholder": "​",
            "style": "IPY_MODEL_8759a1cf3a8240ff948a3941af74069a",
            "value": "100%"
          }
        },
        "ca189d0b5a424c5d9f4f2260b4685efc": {
          "model_module": "@jupyter-widgets/controls",
          "model_name": "FloatProgressModel",
          "model_module_version": "1.5.0",
          "state": {
            "_dom_classes": [],
            "_model_module": "@jupyter-widgets/controls",
            "_model_module_version": "1.5.0",
            "_model_name": "FloatProgressModel",
            "_view_count": null,
            "_view_module": "@jupyter-widgets/controls",
            "_view_module_version": "1.5.0",
            "_view_name": "ProgressView",
            "bar_style": "success",
            "description": "",
            "description_tooltip": null,
            "layout": "IPY_MODEL_1a21f7bf80be4f0f9fe696b81f004810",
            "max": 100,
            "min": 0,
            "orientation": "horizontal",
            "style": "IPY_MODEL_bacab1b548b444b89b2e36f7c0a3e1eb",
            "value": 100
          }
        },
        "61b2f4dea8bb4254b23de7cc1e03bc19": {
          "model_module": "@jupyter-widgets/controls",
          "model_name": "HTMLModel",
          "model_module_version": "1.5.0",
          "state": {
            "_dom_classes": [],
            "_model_module": "@jupyter-widgets/controls",
            "_model_module_version": "1.5.0",
            "_model_name": "HTMLModel",
            "_view_count": null,
            "_view_module": "@jupyter-widgets/controls",
            "_view_module_version": "1.5.0",
            "_view_name": "HTMLView",
            "description": "",
            "description_tooltip": null,
            "layout": "IPY_MODEL_65134d963b7945639b547c57e22e0746",
            "placeholder": "​",
            "style": "IPY_MODEL_326aeb3d5e834112b84a66059a8ba3fc",
            "value": " 100/100 [00:32&lt;00:00,  3.14it/s]"
          }
        },
        "d0ea3861680746e1a8d98321330b4a2e": {
          "model_module": "@jupyter-widgets/base",
          "model_name": "LayoutModel",
          "model_module_version": "1.2.0",
          "state": {
            "_model_module": "@jupyter-widgets/base",
            "_model_module_version": "1.2.0",
            "_model_name": "LayoutModel",
            "_view_count": null,
            "_view_module": "@jupyter-widgets/base",
            "_view_module_version": "1.2.0",
            "_view_name": "LayoutView",
            "align_content": null,
            "align_items": null,
            "align_self": null,
            "border": null,
            "bottom": null,
            "display": null,
            "flex": null,
            "flex_flow": null,
            "grid_area": null,
            "grid_auto_columns": null,
            "grid_auto_flow": null,
            "grid_auto_rows": null,
            "grid_column": null,
            "grid_gap": null,
            "grid_row": null,
            "grid_template_areas": null,
            "grid_template_columns": null,
            "grid_template_rows": null,
            "height": null,
            "justify_content": null,
            "justify_items": null,
            "left": null,
            "margin": null,
            "max_height": null,
            "max_width": null,
            "min_height": null,
            "min_width": null,
            "object_fit": null,
            "object_position": null,
            "order": null,
            "overflow": null,
            "overflow_x": null,
            "overflow_y": null,
            "padding": null,
            "right": null,
            "top": null,
            "visibility": null,
            "width": null
          }
        },
        "8b0fb11713ff4801a4043e201ac40f73": {
          "model_module": "@jupyter-widgets/base",
          "model_name": "LayoutModel",
          "model_module_version": "1.2.0",
          "state": {
            "_model_module": "@jupyter-widgets/base",
            "_model_module_version": "1.2.0",
            "_model_name": "LayoutModel",
            "_view_count": null,
            "_view_module": "@jupyter-widgets/base",
            "_view_module_version": "1.2.0",
            "_view_name": "LayoutView",
            "align_content": null,
            "align_items": null,
            "align_self": null,
            "border": null,
            "bottom": null,
            "display": null,
            "flex": null,
            "flex_flow": null,
            "grid_area": null,
            "grid_auto_columns": null,
            "grid_auto_flow": null,
            "grid_auto_rows": null,
            "grid_column": null,
            "grid_gap": null,
            "grid_row": null,
            "grid_template_areas": null,
            "grid_template_columns": null,
            "grid_template_rows": null,
            "height": null,
            "justify_content": null,
            "justify_items": null,
            "left": null,
            "margin": null,
            "max_height": null,
            "max_width": null,
            "min_height": null,
            "min_width": null,
            "object_fit": null,
            "object_position": null,
            "order": null,
            "overflow": null,
            "overflow_x": null,
            "overflow_y": null,
            "padding": null,
            "right": null,
            "top": null,
            "visibility": null,
            "width": null
          }
        },
        "8759a1cf3a8240ff948a3941af74069a": {
          "model_module": "@jupyter-widgets/controls",
          "model_name": "DescriptionStyleModel",
          "model_module_version": "1.5.0",
          "state": {
            "_model_module": "@jupyter-widgets/controls",
            "_model_module_version": "1.5.0",
            "_model_name": "DescriptionStyleModel",
            "_view_count": null,
            "_view_module": "@jupyter-widgets/base",
            "_view_module_version": "1.2.0",
            "_view_name": "StyleView",
            "description_width": ""
          }
        },
        "1a21f7bf80be4f0f9fe696b81f004810": {
          "model_module": "@jupyter-widgets/base",
          "model_name": "LayoutModel",
          "model_module_version": "1.2.0",
          "state": {
            "_model_module": "@jupyter-widgets/base",
            "_model_module_version": "1.2.0",
            "_model_name": "LayoutModel",
            "_view_count": null,
            "_view_module": "@jupyter-widgets/base",
            "_view_module_version": "1.2.0",
            "_view_name": "LayoutView",
            "align_content": null,
            "align_items": null,
            "align_self": null,
            "border": null,
            "bottom": null,
            "display": null,
            "flex": null,
            "flex_flow": null,
            "grid_area": null,
            "grid_auto_columns": null,
            "grid_auto_flow": null,
            "grid_auto_rows": null,
            "grid_column": null,
            "grid_gap": null,
            "grid_row": null,
            "grid_template_areas": null,
            "grid_template_columns": null,
            "grid_template_rows": null,
            "height": null,
            "justify_content": null,
            "justify_items": null,
            "left": null,
            "margin": null,
            "max_height": null,
            "max_width": null,
            "min_height": null,
            "min_width": null,
            "object_fit": null,
            "object_position": null,
            "order": null,
            "overflow": null,
            "overflow_x": null,
            "overflow_y": null,
            "padding": null,
            "right": null,
            "top": null,
            "visibility": null,
            "width": null
          }
        },
        "bacab1b548b444b89b2e36f7c0a3e1eb": {
          "model_module": "@jupyter-widgets/controls",
          "model_name": "ProgressStyleModel",
          "model_module_version": "1.5.0",
          "state": {
            "_model_module": "@jupyter-widgets/controls",
            "_model_module_version": "1.5.0",
            "_model_name": "ProgressStyleModel",
            "_view_count": null,
            "_view_module": "@jupyter-widgets/base",
            "_view_module_version": "1.2.0",
            "_view_name": "StyleView",
            "bar_color": null,
            "description_width": ""
          }
        },
        "65134d963b7945639b547c57e22e0746": {
          "model_module": "@jupyter-widgets/base",
          "model_name": "LayoutModel",
          "model_module_version": "1.2.0",
          "state": {
            "_model_module": "@jupyter-widgets/base",
            "_model_module_version": "1.2.0",
            "_model_name": "LayoutModel",
            "_view_count": null,
            "_view_module": "@jupyter-widgets/base",
            "_view_module_version": "1.2.0",
            "_view_name": "LayoutView",
            "align_content": null,
            "align_items": null,
            "align_self": null,
            "border": null,
            "bottom": null,
            "display": null,
            "flex": null,
            "flex_flow": null,
            "grid_area": null,
            "grid_auto_columns": null,
            "grid_auto_flow": null,
            "grid_auto_rows": null,
            "grid_column": null,
            "grid_gap": null,
            "grid_row": null,
            "grid_template_areas": null,
            "grid_template_columns": null,
            "grid_template_rows": null,
            "height": null,
            "justify_content": null,
            "justify_items": null,
            "left": null,
            "margin": null,
            "max_height": null,
            "max_width": null,
            "min_height": null,
            "min_width": null,
            "object_fit": null,
            "object_position": null,
            "order": null,
            "overflow": null,
            "overflow_x": null,
            "overflow_y": null,
            "padding": null,
            "right": null,
            "top": null,
            "visibility": null,
            "width": null
          }
        },
        "326aeb3d5e834112b84a66059a8ba3fc": {
          "model_module": "@jupyter-widgets/controls",
          "model_name": "DescriptionStyleModel",
          "model_module_version": "1.5.0",
          "state": {
            "_model_module": "@jupyter-widgets/controls",
            "_model_module_version": "1.5.0",
            "_model_name": "DescriptionStyleModel",
            "_view_count": null,
            "_view_module": "@jupyter-widgets/base",
            "_view_module_version": "1.2.0",
            "_view_name": "StyleView",
            "description_width": ""
          }
        },
        "92e59e49cf9a450aa4ff7f2ad9257878": {
          "model_module": "@jupyter-widgets/controls",
          "model_name": "HBoxModel",
          "model_module_version": "1.5.0",
          "state": {
            "_dom_classes": [],
            "_model_module": "@jupyter-widgets/controls",
            "_model_module_version": "1.5.0",
            "_model_name": "HBoxModel",
            "_view_count": null,
            "_view_module": "@jupyter-widgets/controls",
            "_view_module_version": "1.5.0",
            "_view_name": "HBoxView",
            "box_style": "",
            "children": [
              "IPY_MODEL_71c6a5a7ead7451ab14303f540f4f005",
              "IPY_MODEL_bc3169ca4d7b4e2b8fb2204161c5eec9",
              "IPY_MODEL_c4024089eb844133b6bf9bc804c5aba6"
            ],
            "layout": "IPY_MODEL_3ed98736f5ef4c248b2de5572fe0add6"
          }
        },
        "71c6a5a7ead7451ab14303f540f4f005": {
          "model_module": "@jupyter-widgets/controls",
          "model_name": "HTMLModel",
          "model_module_version": "1.5.0",
          "state": {
            "_dom_classes": [],
            "_model_module": "@jupyter-widgets/controls",
            "_model_module_version": "1.5.0",
            "_model_name": "HTMLModel",
            "_view_count": null,
            "_view_module": "@jupyter-widgets/controls",
            "_view_module_version": "1.5.0",
            "_view_name": "HTMLView",
            "description": "",
            "description_tooltip": null,
            "layout": "IPY_MODEL_a0c54c727e7946259591b28343c44f6b",
            "placeholder": "​",
            "style": "IPY_MODEL_a8cd2d6de8d14a60a7186196ea154c53",
            "value": "100%"
          }
        },
        "bc3169ca4d7b4e2b8fb2204161c5eec9": {
          "model_module": "@jupyter-widgets/controls",
          "model_name": "FloatProgressModel",
          "model_module_version": "1.5.0",
          "state": {
            "_dom_classes": [],
            "_model_module": "@jupyter-widgets/controls",
            "_model_module_version": "1.5.0",
            "_model_name": "FloatProgressModel",
            "_view_count": null,
            "_view_module": "@jupyter-widgets/controls",
            "_view_module_version": "1.5.0",
            "_view_name": "ProgressView",
            "bar_style": "success",
            "description": "",
            "description_tooltip": null,
            "layout": "IPY_MODEL_aa264a113e484e37ad97b63acd99f85d",
            "max": 900,
            "min": 0,
            "orientation": "horizontal",
            "style": "IPY_MODEL_aefea3fac3204713b2a8330c5994a31f",
            "value": 900
          }
        },
        "c4024089eb844133b6bf9bc804c5aba6": {
          "model_module": "@jupyter-widgets/controls",
          "model_name": "HTMLModel",
          "model_module_version": "1.5.0",
          "state": {
            "_dom_classes": [],
            "_model_module": "@jupyter-widgets/controls",
            "_model_module_version": "1.5.0",
            "_model_name": "HTMLModel",
            "_view_count": null,
            "_view_module": "@jupyter-widgets/controls",
            "_view_module_version": "1.5.0",
            "_view_name": "HTMLView",
            "description": "",
            "description_tooltip": null,
            "layout": "IPY_MODEL_da121806305e41d39df69af77a99c12e",
            "placeholder": "​",
            "style": "IPY_MODEL_be65db21a0c149bd894c3c4f71be4ad6",
            "value": " 900/900 [05:23&lt;00:00,  3.06it/s]"
          }
        },
        "3ed98736f5ef4c248b2de5572fe0add6": {
          "model_module": "@jupyter-widgets/base",
          "model_name": "LayoutModel",
          "model_module_version": "1.2.0",
          "state": {
            "_model_module": "@jupyter-widgets/base",
            "_model_module_version": "1.2.0",
            "_model_name": "LayoutModel",
            "_view_count": null,
            "_view_module": "@jupyter-widgets/base",
            "_view_module_version": "1.2.0",
            "_view_name": "LayoutView",
            "align_content": null,
            "align_items": null,
            "align_self": null,
            "border": null,
            "bottom": null,
            "display": null,
            "flex": null,
            "flex_flow": null,
            "grid_area": null,
            "grid_auto_columns": null,
            "grid_auto_flow": null,
            "grid_auto_rows": null,
            "grid_column": null,
            "grid_gap": null,
            "grid_row": null,
            "grid_template_areas": null,
            "grid_template_columns": null,
            "grid_template_rows": null,
            "height": null,
            "justify_content": null,
            "justify_items": null,
            "left": null,
            "margin": null,
            "max_height": null,
            "max_width": null,
            "min_height": null,
            "min_width": null,
            "object_fit": null,
            "object_position": null,
            "order": null,
            "overflow": null,
            "overflow_x": null,
            "overflow_y": null,
            "padding": null,
            "right": null,
            "top": null,
            "visibility": null,
            "width": null
          }
        },
        "a0c54c727e7946259591b28343c44f6b": {
          "model_module": "@jupyter-widgets/base",
          "model_name": "LayoutModel",
          "model_module_version": "1.2.0",
          "state": {
            "_model_module": "@jupyter-widgets/base",
            "_model_module_version": "1.2.0",
            "_model_name": "LayoutModel",
            "_view_count": null,
            "_view_module": "@jupyter-widgets/base",
            "_view_module_version": "1.2.0",
            "_view_name": "LayoutView",
            "align_content": null,
            "align_items": null,
            "align_self": null,
            "border": null,
            "bottom": null,
            "display": null,
            "flex": null,
            "flex_flow": null,
            "grid_area": null,
            "grid_auto_columns": null,
            "grid_auto_flow": null,
            "grid_auto_rows": null,
            "grid_column": null,
            "grid_gap": null,
            "grid_row": null,
            "grid_template_areas": null,
            "grid_template_columns": null,
            "grid_template_rows": null,
            "height": null,
            "justify_content": null,
            "justify_items": null,
            "left": null,
            "margin": null,
            "max_height": null,
            "max_width": null,
            "min_height": null,
            "min_width": null,
            "object_fit": null,
            "object_position": null,
            "order": null,
            "overflow": null,
            "overflow_x": null,
            "overflow_y": null,
            "padding": null,
            "right": null,
            "top": null,
            "visibility": null,
            "width": null
          }
        },
        "a8cd2d6de8d14a60a7186196ea154c53": {
          "model_module": "@jupyter-widgets/controls",
          "model_name": "DescriptionStyleModel",
          "model_module_version": "1.5.0",
          "state": {
            "_model_module": "@jupyter-widgets/controls",
            "_model_module_version": "1.5.0",
            "_model_name": "DescriptionStyleModel",
            "_view_count": null,
            "_view_module": "@jupyter-widgets/base",
            "_view_module_version": "1.2.0",
            "_view_name": "StyleView",
            "description_width": ""
          }
        },
        "aa264a113e484e37ad97b63acd99f85d": {
          "model_module": "@jupyter-widgets/base",
          "model_name": "LayoutModel",
          "model_module_version": "1.2.0",
          "state": {
            "_model_module": "@jupyter-widgets/base",
            "_model_module_version": "1.2.0",
            "_model_name": "LayoutModel",
            "_view_count": null,
            "_view_module": "@jupyter-widgets/base",
            "_view_module_version": "1.2.0",
            "_view_name": "LayoutView",
            "align_content": null,
            "align_items": null,
            "align_self": null,
            "border": null,
            "bottom": null,
            "display": null,
            "flex": null,
            "flex_flow": null,
            "grid_area": null,
            "grid_auto_columns": null,
            "grid_auto_flow": null,
            "grid_auto_rows": null,
            "grid_column": null,
            "grid_gap": null,
            "grid_row": null,
            "grid_template_areas": null,
            "grid_template_columns": null,
            "grid_template_rows": null,
            "height": null,
            "justify_content": null,
            "justify_items": null,
            "left": null,
            "margin": null,
            "max_height": null,
            "max_width": null,
            "min_height": null,
            "min_width": null,
            "object_fit": null,
            "object_position": null,
            "order": null,
            "overflow": null,
            "overflow_x": null,
            "overflow_y": null,
            "padding": null,
            "right": null,
            "top": null,
            "visibility": null,
            "width": null
          }
        },
        "aefea3fac3204713b2a8330c5994a31f": {
          "model_module": "@jupyter-widgets/controls",
          "model_name": "ProgressStyleModel",
          "model_module_version": "1.5.0",
          "state": {
            "_model_module": "@jupyter-widgets/controls",
            "_model_module_version": "1.5.0",
            "_model_name": "ProgressStyleModel",
            "_view_count": null,
            "_view_module": "@jupyter-widgets/base",
            "_view_module_version": "1.2.0",
            "_view_name": "StyleView",
            "bar_color": null,
            "description_width": ""
          }
        },
        "da121806305e41d39df69af77a99c12e": {
          "model_module": "@jupyter-widgets/base",
          "model_name": "LayoutModel",
          "model_module_version": "1.2.0",
          "state": {
            "_model_module": "@jupyter-widgets/base",
            "_model_module_version": "1.2.0",
            "_model_name": "LayoutModel",
            "_view_count": null,
            "_view_module": "@jupyter-widgets/base",
            "_view_module_version": "1.2.0",
            "_view_name": "LayoutView",
            "align_content": null,
            "align_items": null,
            "align_self": null,
            "border": null,
            "bottom": null,
            "display": null,
            "flex": null,
            "flex_flow": null,
            "grid_area": null,
            "grid_auto_columns": null,
            "grid_auto_flow": null,
            "grid_auto_rows": null,
            "grid_column": null,
            "grid_gap": null,
            "grid_row": null,
            "grid_template_areas": null,
            "grid_template_columns": null,
            "grid_template_rows": null,
            "height": null,
            "justify_content": null,
            "justify_items": null,
            "left": null,
            "margin": null,
            "max_height": null,
            "max_width": null,
            "min_height": null,
            "min_width": null,
            "object_fit": null,
            "object_position": null,
            "order": null,
            "overflow": null,
            "overflow_x": null,
            "overflow_y": null,
            "padding": null,
            "right": null,
            "top": null,
            "visibility": null,
            "width": null
          }
        },
        "be65db21a0c149bd894c3c4f71be4ad6": {
          "model_module": "@jupyter-widgets/controls",
          "model_name": "DescriptionStyleModel",
          "model_module_version": "1.5.0",
          "state": {
            "_model_module": "@jupyter-widgets/controls",
            "_model_module_version": "1.5.0",
            "_model_name": "DescriptionStyleModel",
            "_view_count": null,
            "_view_module": "@jupyter-widgets/base",
            "_view_module_version": "1.2.0",
            "_view_name": "StyleView",
            "description_width": ""
          }
        },
        "013db9e35b4c460aa390d7961937456f": {
          "model_module": "@jupyter-widgets/controls",
          "model_name": "HBoxModel",
          "model_module_version": "1.5.0",
          "state": {
            "_dom_classes": [],
            "_model_module": "@jupyter-widgets/controls",
            "_model_module_version": "1.5.0",
            "_model_name": "HBoxModel",
            "_view_count": null,
            "_view_module": "@jupyter-widgets/controls",
            "_view_module_version": "1.5.0",
            "_view_name": "HBoxView",
            "box_style": "",
            "children": [
              "IPY_MODEL_a908ee1a959743fab90d0badafcb2938",
              "IPY_MODEL_8349ab52447d425db330d217b0484318",
              "IPY_MODEL_507888bfac17499e8c2b45f655d57018"
            ],
            "layout": "IPY_MODEL_64f814aa187648a6a2b0de12dfab98ab"
          }
        },
        "a908ee1a959743fab90d0badafcb2938": {
          "model_module": "@jupyter-widgets/controls",
          "model_name": "HTMLModel",
          "model_module_version": "1.5.0",
          "state": {
            "_dom_classes": [],
            "_model_module": "@jupyter-widgets/controls",
            "_model_module_version": "1.5.0",
            "_model_name": "HTMLModel",
            "_view_count": null,
            "_view_module": "@jupyter-widgets/controls",
            "_view_module_version": "1.5.0",
            "_view_name": "HTMLView",
            "description": "",
            "description_tooltip": null,
            "layout": "IPY_MODEL_521cb6cd145041e4bdfc658b548b11e6",
            "placeholder": "​",
            "style": "IPY_MODEL_ac92a46875ee4df19df9cba7d41e07df",
            "value": "100%"
          }
        },
        "8349ab52447d425db330d217b0484318": {
          "model_module": "@jupyter-widgets/controls",
          "model_name": "FloatProgressModel",
          "model_module_version": "1.5.0",
          "state": {
            "_dom_classes": [],
            "_model_module": "@jupyter-widgets/controls",
            "_model_module_version": "1.5.0",
            "_model_name": "FloatProgressModel",
            "_view_count": null,
            "_view_module": "@jupyter-widgets/controls",
            "_view_module_version": "1.5.0",
            "_view_name": "ProgressView",
            "bar_style": "success",
            "description": "",
            "description_tooltip": null,
            "layout": "IPY_MODEL_457f6f81e2024b668deeca3a86a0305b",
            "max": 100,
            "min": 0,
            "orientation": "horizontal",
            "style": "IPY_MODEL_451d312a418642f08e6fdba856ad5033",
            "value": 100
          }
        },
        "507888bfac17499e8c2b45f655d57018": {
          "model_module": "@jupyter-widgets/controls",
          "model_name": "HTMLModel",
          "model_module_version": "1.5.0",
          "state": {
            "_dom_classes": [],
            "_model_module": "@jupyter-widgets/controls",
            "_model_module_version": "1.5.0",
            "_model_name": "HTMLModel",
            "_view_count": null,
            "_view_module": "@jupyter-widgets/controls",
            "_view_module_version": "1.5.0",
            "_view_name": "HTMLView",
            "description": "",
            "description_tooltip": null,
            "layout": "IPY_MODEL_681ab9ee4cb44ed59548827e8ab1c14d",
            "placeholder": "​",
            "style": "IPY_MODEL_8556719f0ad543a29eae4c2da0eeab1d",
            "value": " 100/100 [00:34&lt;00:00,  3.05it/s]"
          }
        },
        "64f814aa187648a6a2b0de12dfab98ab": {
          "model_module": "@jupyter-widgets/base",
          "model_name": "LayoutModel",
          "model_module_version": "1.2.0",
          "state": {
            "_model_module": "@jupyter-widgets/base",
            "_model_module_version": "1.2.0",
            "_model_name": "LayoutModel",
            "_view_count": null,
            "_view_module": "@jupyter-widgets/base",
            "_view_module_version": "1.2.0",
            "_view_name": "LayoutView",
            "align_content": null,
            "align_items": null,
            "align_self": null,
            "border": null,
            "bottom": null,
            "display": null,
            "flex": null,
            "flex_flow": null,
            "grid_area": null,
            "grid_auto_columns": null,
            "grid_auto_flow": null,
            "grid_auto_rows": null,
            "grid_column": null,
            "grid_gap": null,
            "grid_row": null,
            "grid_template_areas": null,
            "grid_template_columns": null,
            "grid_template_rows": null,
            "height": null,
            "justify_content": null,
            "justify_items": null,
            "left": null,
            "margin": null,
            "max_height": null,
            "max_width": null,
            "min_height": null,
            "min_width": null,
            "object_fit": null,
            "object_position": null,
            "order": null,
            "overflow": null,
            "overflow_x": null,
            "overflow_y": null,
            "padding": null,
            "right": null,
            "top": null,
            "visibility": null,
            "width": null
          }
        },
        "521cb6cd145041e4bdfc658b548b11e6": {
          "model_module": "@jupyter-widgets/base",
          "model_name": "LayoutModel",
          "model_module_version": "1.2.0",
          "state": {
            "_model_module": "@jupyter-widgets/base",
            "_model_module_version": "1.2.0",
            "_model_name": "LayoutModel",
            "_view_count": null,
            "_view_module": "@jupyter-widgets/base",
            "_view_module_version": "1.2.0",
            "_view_name": "LayoutView",
            "align_content": null,
            "align_items": null,
            "align_self": null,
            "border": null,
            "bottom": null,
            "display": null,
            "flex": null,
            "flex_flow": null,
            "grid_area": null,
            "grid_auto_columns": null,
            "grid_auto_flow": null,
            "grid_auto_rows": null,
            "grid_column": null,
            "grid_gap": null,
            "grid_row": null,
            "grid_template_areas": null,
            "grid_template_columns": null,
            "grid_template_rows": null,
            "height": null,
            "justify_content": null,
            "justify_items": null,
            "left": null,
            "margin": null,
            "max_height": null,
            "max_width": null,
            "min_height": null,
            "min_width": null,
            "object_fit": null,
            "object_position": null,
            "order": null,
            "overflow": null,
            "overflow_x": null,
            "overflow_y": null,
            "padding": null,
            "right": null,
            "top": null,
            "visibility": null,
            "width": null
          }
        },
        "ac92a46875ee4df19df9cba7d41e07df": {
          "model_module": "@jupyter-widgets/controls",
          "model_name": "DescriptionStyleModel",
          "model_module_version": "1.5.0",
          "state": {
            "_model_module": "@jupyter-widgets/controls",
            "_model_module_version": "1.5.0",
            "_model_name": "DescriptionStyleModel",
            "_view_count": null,
            "_view_module": "@jupyter-widgets/base",
            "_view_module_version": "1.2.0",
            "_view_name": "StyleView",
            "description_width": ""
          }
        },
        "457f6f81e2024b668deeca3a86a0305b": {
          "model_module": "@jupyter-widgets/base",
          "model_name": "LayoutModel",
          "model_module_version": "1.2.0",
          "state": {
            "_model_module": "@jupyter-widgets/base",
            "_model_module_version": "1.2.0",
            "_model_name": "LayoutModel",
            "_view_count": null,
            "_view_module": "@jupyter-widgets/base",
            "_view_module_version": "1.2.0",
            "_view_name": "LayoutView",
            "align_content": null,
            "align_items": null,
            "align_self": null,
            "border": null,
            "bottom": null,
            "display": null,
            "flex": null,
            "flex_flow": null,
            "grid_area": null,
            "grid_auto_columns": null,
            "grid_auto_flow": null,
            "grid_auto_rows": null,
            "grid_column": null,
            "grid_gap": null,
            "grid_row": null,
            "grid_template_areas": null,
            "grid_template_columns": null,
            "grid_template_rows": null,
            "height": null,
            "justify_content": null,
            "justify_items": null,
            "left": null,
            "margin": null,
            "max_height": null,
            "max_width": null,
            "min_height": null,
            "min_width": null,
            "object_fit": null,
            "object_position": null,
            "order": null,
            "overflow": null,
            "overflow_x": null,
            "overflow_y": null,
            "padding": null,
            "right": null,
            "top": null,
            "visibility": null,
            "width": null
          }
        },
        "451d312a418642f08e6fdba856ad5033": {
          "model_module": "@jupyter-widgets/controls",
          "model_name": "ProgressStyleModel",
          "model_module_version": "1.5.0",
          "state": {
            "_model_module": "@jupyter-widgets/controls",
            "_model_module_version": "1.5.0",
            "_model_name": "ProgressStyleModel",
            "_view_count": null,
            "_view_module": "@jupyter-widgets/base",
            "_view_module_version": "1.2.0",
            "_view_name": "StyleView",
            "bar_color": null,
            "description_width": ""
          }
        },
        "681ab9ee4cb44ed59548827e8ab1c14d": {
          "model_module": "@jupyter-widgets/base",
          "model_name": "LayoutModel",
          "model_module_version": "1.2.0",
          "state": {
            "_model_module": "@jupyter-widgets/base",
            "_model_module_version": "1.2.0",
            "_model_name": "LayoutModel",
            "_view_count": null,
            "_view_module": "@jupyter-widgets/base",
            "_view_module_version": "1.2.0",
            "_view_name": "LayoutView",
            "align_content": null,
            "align_items": null,
            "align_self": null,
            "border": null,
            "bottom": null,
            "display": null,
            "flex": null,
            "flex_flow": null,
            "grid_area": null,
            "grid_auto_columns": null,
            "grid_auto_flow": null,
            "grid_auto_rows": null,
            "grid_column": null,
            "grid_gap": null,
            "grid_row": null,
            "grid_template_areas": null,
            "grid_template_columns": null,
            "grid_template_rows": null,
            "height": null,
            "justify_content": null,
            "justify_items": null,
            "left": null,
            "margin": null,
            "max_height": null,
            "max_width": null,
            "min_height": null,
            "min_width": null,
            "object_fit": null,
            "object_position": null,
            "order": null,
            "overflow": null,
            "overflow_x": null,
            "overflow_y": null,
            "padding": null,
            "right": null,
            "top": null,
            "visibility": null,
            "width": null
          }
        },
        "8556719f0ad543a29eae4c2da0eeab1d": {
          "model_module": "@jupyter-widgets/controls",
          "model_name": "DescriptionStyleModel",
          "model_module_version": "1.5.0",
          "state": {
            "_model_module": "@jupyter-widgets/controls",
            "_model_module_version": "1.5.0",
            "_model_name": "DescriptionStyleModel",
            "_view_count": null,
            "_view_module": "@jupyter-widgets/base",
            "_view_module_version": "1.2.0",
            "_view_name": "StyleView",
            "description_width": ""
          }
        },
        "11c09910099a4d7d97a85cc458de1db7": {
          "model_module": "@jupyter-widgets/controls",
          "model_name": "HBoxModel",
          "model_module_version": "1.5.0",
          "state": {
            "_dom_classes": [],
            "_model_module": "@jupyter-widgets/controls",
            "_model_module_version": "1.5.0",
            "_model_name": "HBoxModel",
            "_view_count": null,
            "_view_module": "@jupyter-widgets/controls",
            "_view_module_version": "1.5.0",
            "_view_name": "HBoxView",
            "box_style": "",
            "children": [
              "IPY_MODEL_3d1f134ccd634cef9cc05cc5127d6a9a",
              "IPY_MODEL_4e427f696eca4712b0ac53974fafc82b",
              "IPY_MODEL_b994e9cffe544e8aba04200e2d35bd02"
            ],
            "layout": "IPY_MODEL_83ddc9d653ec41dab5609794289c1b29"
          }
        },
        "3d1f134ccd634cef9cc05cc5127d6a9a": {
          "model_module": "@jupyter-widgets/controls",
          "model_name": "HTMLModel",
          "model_module_version": "1.5.0",
          "state": {
            "_dom_classes": [],
            "_model_module": "@jupyter-widgets/controls",
            "_model_module_version": "1.5.0",
            "_model_name": "HTMLModel",
            "_view_count": null,
            "_view_module": "@jupyter-widgets/controls",
            "_view_module_version": "1.5.0",
            "_view_name": "HTMLView",
            "description": "",
            "description_tooltip": null,
            "layout": "IPY_MODEL_72a1f7b5142e4c71b91a55f9991cdf86",
            "placeholder": "​",
            "style": "IPY_MODEL_b0d705f9491b46068ef5fcf9aae33bac",
            "value": "  0%"
          }
        },
        "4e427f696eca4712b0ac53974fafc82b": {
          "model_module": "@jupyter-widgets/controls",
          "model_name": "FloatProgressModel",
          "model_module_version": "1.5.0",
          "state": {
            "_dom_classes": [],
            "_model_module": "@jupyter-widgets/controls",
            "_model_module_version": "1.5.0",
            "_model_name": "FloatProgressModel",
            "_view_count": null,
            "_view_module": "@jupyter-widgets/controls",
            "_view_module_version": "1.5.0",
            "_view_name": "ProgressView",
            "bar_style": "danger",
            "description": "",
            "description_tooltip": null,
            "layout": "IPY_MODEL_c57cb4c4006e4aa0b80f1961ef78959b",
            "max": 160,
            "min": 0,
            "orientation": "horizontal",
            "style": "IPY_MODEL_a3e1ff686471456ca231aebd61a3536e",
            "value": 0
          }
        },
        "b994e9cffe544e8aba04200e2d35bd02": {
          "model_module": "@jupyter-widgets/controls",
          "model_name": "HTMLModel",
          "model_module_version": "1.5.0",
          "state": {
            "_dom_classes": [],
            "_model_module": "@jupyter-widgets/controls",
            "_model_module_version": "1.5.0",
            "_model_name": "HTMLModel",
            "_view_count": null,
            "_view_module": "@jupyter-widgets/controls",
            "_view_module_version": "1.5.0",
            "_view_name": "HTMLView",
            "description": "",
            "description_tooltip": null,
            "layout": "IPY_MODEL_f80d923b2d9d4e09976f0ffe52d7d748",
            "placeholder": "​",
            "style": "IPY_MODEL_60f168d2b3b24eceac2c49af9f03bbdf",
            "value": " 0/160 [00:00&lt;?, ?it/s]"
          }
        },
        "83ddc9d653ec41dab5609794289c1b29": {
          "model_module": "@jupyter-widgets/base",
          "model_name": "LayoutModel",
          "model_module_version": "1.2.0",
          "state": {
            "_model_module": "@jupyter-widgets/base",
            "_model_module_version": "1.2.0",
            "_model_name": "LayoutModel",
            "_view_count": null,
            "_view_module": "@jupyter-widgets/base",
            "_view_module_version": "1.2.0",
            "_view_name": "LayoutView",
            "align_content": null,
            "align_items": null,
            "align_self": null,
            "border": null,
            "bottom": null,
            "display": null,
            "flex": null,
            "flex_flow": null,
            "grid_area": null,
            "grid_auto_columns": null,
            "grid_auto_flow": null,
            "grid_auto_rows": null,
            "grid_column": null,
            "grid_gap": null,
            "grid_row": null,
            "grid_template_areas": null,
            "grid_template_columns": null,
            "grid_template_rows": null,
            "height": null,
            "justify_content": null,
            "justify_items": null,
            "left": null,
            "margin": null,
            "max_height": null,
            "max_width": null,
            "min_height": null,
            "min_width": null,
            "object_fit": null,
            "object_position": null,
            "order": null,
            "overflow": null,
            "overflow_x": null,
            "overflow_y": null,
            "padding": null,
            "right": null,
            "top": null,
            "visibility": null,
            "width": null
          }
        },
        "72a1f7b5142e4c71b91a55f9991cdf86": {
          "model_module": "@jupyter-widgets/base",
          "model_name": "LayoutModel",
          "model_module_version": "1.2.0",
          "state": {
            "_model_module": "@jupyter-widgets/base",
            "_model_module_version": "1.2.0",
            "_model_name": "LayoutModel",
            "_view_count": null,
            "_view_module": "@jupyter-widgets/base",
            "_view_module_version": "1.2.0",
            "_view_name": "LayoutView",
            "align_content": null,
            "align_items": null,
            "align_self": null,
            "border": null,
            "bottom": null,
            "display": null,
            "flex": null,
            "flex_flow": null,
            "grid_area": null,
            "grid_auto_columns": null,
            "grid_auto_flow": null,
            "grid_auto_rows": null,
            "grid_column": null,
            "grid_gap": null,
            "grid_row": null,
            "grid_template_areas": null,
            "grid_template_columns": null,
            "grid_template_rows": null,
            "height": null,
            "justify_content": null,
            "justify_items": null,
            "left": null,
            "margin": null,
            "max_height": null,
            "max_width": null,
            "min_height": null,
            "min_width": null,
            "object_fit": null,
            "object_position": null,
            "order": null,
            "overflow": null,
            "overflow_x": null,
            "overflow_y": null,
            "padding": null,
            "right": null,
            "top": null,
            "visibility": null,
            "width": null
          }
        },
        "b0d705f9491b46068ef5fcf9aae33bac": {
          "model_module": "@jupyter-widgets/controls",
          "model_name": "DescriptionStyleModel",
          "model_module_version": "1.5.0",
          "state": {
            "_model_module": "@jupyter-widgets/controls",
            "_model_module_version": "1.5.0",
            "_model_name": "DescriptionStyleModel",
            "_view_count": null,
            "_view_module": "@jupyter-widgets/base",
            "_view_module_version": "1.2.0",
            "_view_name": "StyleView",
            "description_width": ""
          }
        },
        "c57cb4c4006e4aa0b80f1961ef78959b": {
          "model_module": "@jupyter-widgets/base",
          "model_name": "LayoutModel",
          "model_module_version": "1.2.0",
          "state": {
            "_model_module": "@jupyter-widgets/base",
            "_model_module_version": "1.2.0",
            "_model_name": "LayoutModel",
            "_view_count": null,
            "_view_module": "@jupyter-widgets/base",
            "_view_module_version": "1.2.0",
            "_view_name": "LayoutView",
            "align_content": null,
            "align_items": null,
            "align_self": null,
            "border": null,
            "bottom": null,
            "display": null,
            "flex": null,
            "flex_flow": null,
            "grid_area": null,
            "grid_auto_columns": null,
            "grid_auto_flow": null,
            "grid_auto_rows": null,
            "grid_column": null,
            "grid_gap": null,
            "grid_row": null,
            "grid_template_areas": null,
            "grid_template_columns": null,
            "grid_template_rows": null,
            "height": null,
            "justify_content": null,
            "justify_items": null,
            "left": null,
            "margin": null,
            "max_height": null,
            "max_width": null,
            "min_height": null,
            "min_width": null,
            "object_fit": null,
            "object_position": null,
            "order": null,
            "overflow": null,
            "overflow_x": null,
            "overflow_y": null,
            "padding": null,
            "right": null,
            "top": null,
            "visibility": null,
            "width": null
          }
        },
        "a3e1ff686471456ca231aebd61a3536e": {
          "model_module": "@jupyter-widgets/controls",
          "model_name": "ProgressStyleModel",
          "model_module_version": "1.5.0",
          "state": {
            "_model_module": "@jupyter-widgets/controls",
            "_model_module_version": "1.5.0",
            "_model_name": "ProgressStyleModel",
            "_view_count": null,
            "_view_module": "@jupyter-widgets/base",
            "_view_module_version": "1.2.0",
            "_view_name": "StyleView",
            "bar_color": null,
            "description_width": ""
          }
        },
        "f80d923b2d9d4e09976f0ffe52d7d748": {
          "model_module": "@jupyter-widgets/base",
          "model_name": "LayoutModel",
          "model_module_version": "1.2.0",
          "state": {
            "_model_module": "@jupyter-widgets/base",
            "_model_module_version": "1.2.0",
            "_model_name": "LayoutModel",
            "_view_count": null,
            "_view_module": "@jupyter-widgets/base",
            "_view_module_version": "1.2.0",
            "_view_name": "LayoutView",
            "align_content": null,
            "align_items": null,
            "align_self": null,
            "border": null,
            "bottom": null,
            "display": null,
            "flex": null,
            "flex_flow": null,
            "grid_area": null,
            "grid_auto_columns": null,
            "grid_auto_flow": null,
            "grid_auto_rows": null,
            "grid_column": null,
            "grid_gap": null,
            "grid_row": null,
            "grid_template_areas": null,
            "grid_template_columns": null,
            "grid_template_rows": null,
            "height": null,
            "justify_content": null,
            "justify_items": null,
            "left": null,
            "margin": null,
            "max_height": null,
            "max_width": null,
            "min_height": null,
            "min_width": null,
            "object_fit": null,
            "object_position": null,
            "order": null,
            "overflow": null,
            "overflow_x": null,
            "overflow_y": null,
            "padding": null,
            "right": null,
            "top": null,
            "visibility": null,
            "width": null
          }
        },
        "60f168d2b3b24eceac2c49af9f03bbdf": {
          "model_module": "@jupyter-widgets/controls",
          "model_name": "DescriptionStyleModel",
          "model_module_version": "1.5.0",
          "state": {
            "_model_module": "@jupyter-widgets/controls",
            "_model_module_version": "1.5.0",
            "_model_name": "DescriptionStyleModel",
            "_view_count": null,
            "_view_module": "@jupyter-widgets/base",
            "_view_module_version": "1.2.0",
            "_view_name": "StyleView",
            "description_width": ""
          }
        }
      }
    },
    "accelerator": "GPU"
  },
  "nbformat": 4,
  "nbformat_minor": 5
}