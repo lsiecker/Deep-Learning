{
  "cells": [
    {
      "cell_type": "markdown",
      "metadata": {
        "id": "view-in-github",
        "colab_type": "text"
      },
      "source": [
        "<a href=\"https://colab.research.google.com/github/lsiecker/Deep-Learning/blob/main/assignment_2/Assignment_2_2AMM10_22_23.ipynb\" target=\"_parent\"><img src=\"https://colab.research.google.com/assets/colab-badge.svg\" alt=\"Open In Colab\"/></a>"
      ]
    },
    {
      "cell_type": "markdown",
      "id": "d32f8d18",
      "metadata": {
        "id": "d32f8d18"
      },
      "source": [
        "# Group Details\n",
        "\n",
        "## Group Name: group21\n",
        "\n",
        "### Student 1: N.P.G.T. van Beuningen\t1353624\n",
        "\n",
        "### Student 2: D.P.M. van der Hoorn\t1873334\n",
        "\n",
        "### Student 3: L.R. Siecker\t1344838"
      ]
    },
    {
      "cell_type": "markdown",
      "id": "faec2056",
      "metadata": {
        "id": "faec2056"
      },
      "source": [
        "# Loading Data and Preliminaries"
      ]
    },
    {
      "cell_type": "code",
      "execution_count": 6,
      "id": "7d0580a5",
      "metadata": {
        "id": "7d0580a5"
      },
      "outputs": [],
      "source": [
        "import matplotlib.pyplot as plt\n",
        "import matplotlib\n",
        "import numpy as np\n",
        "import io"
      ]
    },
    {
      "cell_type": "code",
      "source": [
        "base_url = \"https://github.com/lsiecker/Deep-Learning/raw/main/assignment_2/data/\""
      ],
      "metadata": {
        "id": "-QWOrWC_Nktn"
      },
      "id": "-QWOrWC_Nktn",
      "execution_count": 11,
      "outputs": []
    },
    {
      "cell_type": "code",
      "source": [
        "def load_data(url, task):\n",
        "    \"\"\"\n",
        "    Loads a numpy array from surfdrive. \n",
        "    \n",
        "    Input:\n",
        "    url: Download link of dataset \n",
        "    \n",
        "    Outputs:\n",
        "    dataset: numpy array with input features or labels\n",
        "    \"\"\"\n",
        "    \n",
        "    response = requests.get(url)\n",
        "    response.raise_for_status()\n",
        "\n",
        "    array = load_array(io.BytesIO(response.content), task)\n",
        "\n",
        "    return array"
      ],
      "metadata": {
        "id": "PhNbEmijMe1p"
      },
      "id": "PhNbEmijMe1p",
      "execution_count": 7,
      "outputs": []
    },
    {
      "cell_type": "code",
      "execution_count": 8,
      "id": "b0756591",
      "metadata": {
        "id": "b0756591"
      },
      "outputs": [],
      "source": [
        "def load_array(filename, task):\n",
        "    datapoint = np.load(filename)\n",
        "    if task == 'task 1':\n",
        "        initial_state = datapoint['initial_state']\n",
        "        terminal_state = datapoint['terminal_state']\n",
        "        return initial_state, terminal_state\n",
        "    elif task == 'task 2' or task == 'task 3':\n",
        "        whole_trajectory = datapoint['trajectory']\n",
        "        # change shape: (num_bodies, attributes, time) ->  num_bodies, time, attributes\n",
        "        whole_trajectory = np.swapaxes(whole_trajectory, 1, 2)\n",
        "        initial_state = whole_trajectory[:, 0]\n",
        "        target = whole_trajectory[:, 1:, 1:]  # drop the first timepoint (second dim) and mass (last dim) for the prediction task\n",
        "        return initial_state, target\n",
        "    else:\n",
        "        raise NotImplementedError(\"'task' argument should be 'task 1', 'task 2' or 'task 3'!\")\n"
      ]
    },
    {
      "cell_type": "code",
      "execution_count": 12,
      "id": "bb77a4be",
      "metadata": {
        "id": "bb77a4be",
        "outputId": "5d667825-579b-402d-a08c-96d14f82f98e",
        "colab": {
          "base_uri": "https://localhost:8080/"
        }
      },
      "outputs": [
        {
          "output_type": "stream",
          "name": "stdout",
          "text": [
            "shape of initial state (model input): (8, 5)\n",
            "shape of terminal state (to be predicted by model): (8, 2)\n",
            "The initial x-coordinate of the body with index 2 in this trajectory was -5.159721083543527\n"
          ]
        }
      ],
      "source": [
        "\"\"\"\n",
        "This cell gives an example of loading a datapoint with numpy for task 1.\n",
        "\n",
        "The arrays returned by the function are structures as follows:\n",
        "initial_state: shape (n_bodies, [mass, x, y, v_x, v_y])\n",
        "terminal_state: shape (n_bodies, [x, y])\n",
        "\n",
        "\"\"\"\n",
        "\n",
        "example = load_data(f\"{base_url}task%201/train/trajectory_0.npz?raw=true\", task='task 1')\n",
        "\n",
        "initial_state, terminal_state = example\n",
        "print(f'shape of initial state (model input): {initial_state.shape}')\n",
        "print(f'shape of terminal state (to be predicted by model): {terminal_state.shape}')\n",
        "\n",
        "body_idx = 2\n",
        "print(f'The initial x-coordinate of the body with index {body_idx} in this trajectory was {initial_state[body_idx, 1]}')"
      ]
    },
    {
      "cell_type": "code",
      "execution_count": 17,
      "id": "1c3ea4cb",
      "metadata": {
        "id": "1c3ea4cb",
        "outputId": "fb2729cd-13fd-4d1b-d60a-a6d60c6cfe08",
        "colab": {
          "base_uri": "https://localhost:8080/"
        }
      },
      "outputs": [
        {
          "output_type": "stream",
          "name": "stdout",
          "text": [
            "shape of initial state (model input): (8, 5)\n",
            "shape of terminal state (to be predicted by model): (8, 49, 4)\n",
            "The y-coordinate of the body with index 2 at time with index 30 in remaining_trajectory was -0.3861544940435097\n",
            "the shape of the input of a test data example is (8, 5)\n",
            "the shape of the target of a test data example is (8, 49, 4)\n",
            "values of the test data example at time 30:\n",
            " [[-1.11611543  3.21149953         nan         nan]\n",
            " [-0.2865083   4.30801877         nan         nan]\n",
            " [ 1.07701594 -8.12529269         nan         nan]\n",
            " [-0.92053478  3.13709551         nan         nan]\n",
            " [-3.96308297 -4.27733589         nan         nan]\n",
            " [ 2.33945401 -8.67733599         nan         nan]\n",
            " [-4.83949085  3.67854952         nan         nan]\n",
            " [ 0.31080159 -9.74720071         nan         nan]]\n",
            "note: velocity values are unobserved (NaNs) in the test data!\n"
          ]
        }
      ],
      "source": [
        "\"\"\"\n",
        "This cell gives an example of loading a datapoint with numpy for task 2 / 3.\n",
        "\n",
        "The arrays returned by the function are structures as follows:\n",
        "initial_state: shape (n_bodies, [mass, x, y, v_x, v_y])\n",
        "remaining_trajectory: shape (n_bodies, time, [x, y, v_x, v_y])\n",
        "\n",
        "Note that for this task, you are asked to evaluate performance only with regard to the predictions of the positions (x and y).\n",
        "If you use the velocity of the remaining trajectory for training,\n",
        "this use should be purely auxiliary for the goal of predicting the positions [x,y] over time. \n",
        "While testing performance of your model on the test set, you do not have access to v_x and v_y of the remaining trajectory.\n",
        "\n",
        "\"\"\"\n",
        "\n",
        "example = load_data(f'{base_url}task%202_3/train/trajectory_0.npz', task='task 2')\n",
        "\n",
        "initial_state, remaining_trajectory = example\n",
        "print(f'shape of initial state (model input): {initial_state.shape}')\n",
        "print(f'shape of terminal state (to be predicted by model): {remaining_trajectory.shape}')\n",
        "\n",
        "body_idx = 2\n",
        "time_idx = 30\n",
        "print(f'The y-coordinate of the body with index {body_idx} at time with index {time_idx} in remaining_trajectory was {remaining_trajectory[body_idx, time_idx, 1]}')\n",
        "\n",
        "test_example = load_data(f'{base_url}task 2_3/test/trajectory_900.npz', task='task 3')\n",
        "test_initial_state, test_remaining_trajectory = test_example\n",
        "print(f'the shape of the input of a test data example is {test_initial_state.shape}')\n",
        "print(f'the shape of the target of a test data example is {test_remaining_trajectory.shape}')\n",
        "print(f'values of the test data example at time {time_idx}:\\n {test_remaining_trajectory[:, time_idx]}')\n",
        "print('note: velocity values are unobserved (NaNs) in the test data!')"
      ]
    },
    {
      "cell_type": "code",
      "execution_count": null,
      "id": "10a3438a",
      "metadata": {
        "id": "10a3438a"
      },
      "outputs": [],
      "source": []
    },
    {
      "cell_type": "code",
      "execution_count": null,
      "id": "f9106543",
      "metadata": {
        "id": "f9106543"
      },
      "outputs": [],
      "source": []
    },
    {
      "cell_type": "code",
      "execution_count": null,
      "id": "d28681a6",
      "metadata": {
        "id": "d28681a6"
      },
      "outputs": [],
      "source": []
    },
    {
      "cell_type": "markdown",
      "source": [
        "# Task **1**"
      ],
      "metadata": {
        "id": "XTN_Ug4wNBoG"
      },
      "id": "XTN_Ug4wNBoG"
    },
    {
      "cell_type": "markdown",
      "id": "059b633c",
      "metadata": {
        "id": "059b633c"
      },
      "source": [
        "## Data Handling and Preprocessing"
      ]
    },
    {
      "cell_type": "code",
      "execution_count": null,
      "id": "e6ecb529",
      "metadata": {
        "id": "e6ecb529"
      },
      "outputs": [],
      "source": [
        "#todo"
      ]
    },
    {
      "cell_type": "code",
      "execution_count": null,
      "id": "f8633eb8",
      "metadata": {
        "id": "f8633eb8"
      },
      "outputs": [],
      "source": []
    },
    {
      "cell_type": "code",
      "execution_count": null,
      "id": "0a99a32b",
      "metadata": {
        "id": "0a99a32b"
      },
      "outputs": [],
      "source": []
    },
    {
      "cell_type": "markdown",
      "id": "18b2874d",
      "metadata": {
        "id": "18b2874d"
      },
      "source": [
        "## Model Implementation"
      ]
    },
    {
      "cell_type": "code",
      "execution_count": null,
      "id": "66774050",
      "metadata": {
        "id": "66774050"
      },
      "outputs": [],
      "source": [
        "#todo"
      ]
    },
    {
      "cell_type": "code",
      "execution_count": null,
      "id": "ba598378",
      "metadata": {
        "id": "ba598378"
      },
      "outputs": [],
      "source": []
    },
    {
      "cell_type": "code",
      "execution_count": null,
      "id": "95154df7",
      "metadata": {
        "id": "95154df7"
      },
      "outputs": [],
      "source": []
    },
    {
      "cell_type": "markdown",
      "id": "dea70d73",
      "metadata": {
        "id": "dea70d73"
      },
      "source": [
        "## Model Training"
      ]
    },
    {
      "cell_type": "code",
      "execution_count": null,
      "id": "3af520ae",
      "metadata": {
        "id": "3af520ae"
      },
      "outputs": [],
      "source": [
        "#todo"
      ]
    },
    {
      "cell_type": "code",
      "execution_count": null,
      "id": "e95af5f9",
      "metadata": {
        "id": "e95af5f9"
      },
      "outputs": [],
      "source": []
    },
    {
      "cell_type": "code",
      "execution_count": null,
      "id": "07e03ddf",
      "metadata": {
        "id": "07e03ddf"
      },
      "outputs": [],
      "source": []
    },
    {
      "cell_type": "markdown",
      "id": "d5fb3b29",
      "metadata": {
        "id": "d5fb3b29"
      },
      "source": [
        "## Evaluation"
      ]
    },
    {
      "cell_type": "code",
      "execution_count": null,
      "id": "bf5fa1b4",
      "metadata": {
        "id": "bf5fa1b4"
      },
      "outputs": [],
      "source": [
        "#todo"
      ]
    },
    {
      "cell_type": "code",
      "execution_count": null,
      "id": "2280031f",
      "metadata": {
        "id": "2280031f"
      },
      "outputs": [],
      "source": []
    },
    {
      "cell_type": "code",
      "execution_count": null,
      "id": "3a8240f1",
      "metadata": {
        "id": "3a8240f1"
      },
      "outputs": [],
      "source": []
    },
    {
      "cell_type": "markdown",
      "source": [
        "# Task **2**"
      ],
      "metadata": {
        "id": "zscir61wNPq-"
      },
      "id": "zscir61wNPq-"
    },
    {
      "cell_type": "markdown",
      "metadata": {
        "id": "GA5o3OwsNPq-"
      },
      "source": [
        "## Data Handling and Preprocessing"
      ],
      "id": "GA5o3OwsNPq-"
    },
    {
      "cell_type": "code",
      "execution_count": null,
      "metadata": {
        "id": "wN0DiVWRNPq-"
      },
      "outputs": [],
      "source": [
        "#todo"
      ],
      "id": "wN0DiVWRNPq-"
    },
    {
      "cell_type": "code",
      "execution_count": null,
      "metadata": {
        "id": "1oFwPOUeNPq-"
      },
      "outputs": [],
      "source": [],
      "id": "1oFwPOUeNPq-"
    },
    {
      "cell_type": "code",
      "execution_count": null,
      "metadata": {
        "id": "-1aS1_vLNPq_"
      },
      "outputs": [],
      "source": [],
      "id": "-1aS1_vLNPq_"
    },
    {
      "cell_type": "markdown",
      "metadata": {
        "id": "CBddgkOCNPq_"
      },
      "source": [
        "## Model Implementation"
      ],
      "id": "CBddgkOCNPq_"
    },
    {
      "cell_type": "code",
      "execution_count": null,
      "metadata": {
        "id": "nXN3oainNPq_"
      },
      "outputs": [],
      "source": [
        "#todo"
      ],
      "id": "nXN3oainNPq_"
    },
    {
      "cell_type": "code",
      "execution_count": null,
      "metadata": {
        "id": "ed5riNqMNPq_"
      },
      "outputs": [],
      "source": [],
      "id": "ed5riNqMNPq_"
    },
    {
      "cell_type": "code",
      "execution_count": null,
      "metadata": {
        "id": "Yx_mTiE2NPq_"
      },
      "outputs": [],
      "source": [],
      "id": "Yx_mTiE2NPq_"
    },
    {
      "cell_type": "markdown",
      "metadata": {
        "id": "Bk0mwW_MNPq_"
      },
      "source": [
        "## Model Training"
      ],
      "id": "Bk0mwW_MNPq_"
    },
    {
      "cell_type": "code",
      "execution_count": null,
      "metadata": {
        "id": "Z80Hu0j_NPq_"
      },
      "outputs": [],
      "source": [
        "#todo"
      ],
      "id": "Z80Hu0j_NPq_"
    },
    {
      "cell_type": "code",
      "execution_count": null,
      "metadata": {
        "id": "BeLdvBlzNPq_"
      },
      "outputs": [],
      "source": [],
      "id": "BeLdvBlzNPq_"
    },
    {
      "cell_type": "code",
      "execution_count": null,
      "metadata": {
        "id": "vH7NfGo_NPrA"
      },
      "outputs": [],
      "source": [],
      "id": "vH7NfGo_NPrA"
    },
    {
      "cell_type": "markdown",
      "metadata": {
        "id": "SXONKz3BNPrA"
      },
      "source": [
        "## Evaluation"
      ],
      "id": "SXONKz3BNPrA"
    },
    {
      "cell_type": "code",
      "execution_count": null,
      "metadata": {
        "id": "gHUaCY69NPrA"
      },
      "outputs": [],
      "source": [
        "#todo"
      ],
      "id": "gHUaCY69NPrA"
    },
    {
      "cell_type": "code",
      "execution_count": null,
      "metadata": {
        "id": "u-Zuv88WNPrA"
      },
      "outputs": [],
      "source": [],
      "id": "u-Zuv88WNPrA"
    },
    {
      "cell_type": "code",
      "execution_count": null,
      "metadata": {
        "id": "g9R4m3FfNPrA"
      },
      "outputs": [],
      "source": [],
      "id": "g9R4m3FfNPrA"
    },
    {
      "cell_type": "markdown",
      "source": [
        "# Task **3**"
      ],
      "metadata": {
        "id": "3BBkYM98NQ2n"
      },
      "id": "3BBkYM98NQ2n"
    },
    {
      "cell_type": "markdown",
      "metadata": {
        "id": "R74UD15nNQ2u"
      },
      "source": [
        "## Data Handling and Preprocessing"
      ],
      "id": "R74UD15nNQ2u"
    },
    {
      "cell_type": "code",
      "execution_count": null,
      "metadata": {
        "id": "UtTgTtATNQ2u"
      },
      "outputs": [],
      "source": [
        "#todo"
      ],
      "id": "UtTgTtATNQ2u"
    },
    {
      "cell_type": "code",
      "execution_count": null,
      "metadata": {
        "id": "SIiFNKSdNQ2u"
      },
      "outputs": [],
      "source": [],
      "id": "SIiFNKSdNQ2u"
    },
    {
      "cell_type": "code",
      "execution_count": null,
      "metadata": {
        "id": "t-dHrZe1NQ2u"
      },
      "outputs": [],
      "source": [],
      "id": "t-dHrZe1NQ2u"
    },
    {
      "cell_type": "markdown",
      "metadata": {
        "id": "Ux93FaRNNQ2u"
      },
      "source": [
        "## Model Implementation"
      ],
      "id": "Ux93FaRNNQ2u"
    },
    {
      "cell_type": "code",
      "execution_count": null,
      "metadata": {
        "id": "OKmPXlKVNQ2u"
      },
      "outputs": [],
      "source": [
        "#todo"
      ],
      "id": "OKmPXlKVNQ2u"
    },
    {
      "cell_type": "code",
      "execution_count": null,
      "metadata": {
        "id": "odGl5mAJNQ2u"
      },
      "outputs": [],
      "source": [],
      "id": "odGl5mAJNQ2u"
    },
    {
      "cell_type": "code",
      "execution_count": null,
      "metadata": {
        "id": "ttow-qaZNQ2u"
      },
      "outputs": [],
      "source": [],
      "id": "ttow-qaZNQ2u"
    },
    {
      "cell_type": "markdown",
      "metadata": {
        "id": "5inw0JHbNQ2v"
      },
      "source": [
        "## Model Training"
      ],
      "id": "5inw0JHbNQ2v"
    },
    {
      "cell_type": "code",
      "execution_count": null,
      "metadata": {
        "id": "VK3Fy9oyNQ2v"
      },
      "outputs": [],
      "source": [
        "#todo"
      ],
      "id": "VK3Fy9oyNQ2v"
    },
    {
      "cell_type": "code",
      "execution_count": null,
      "metadata": {
        "id": "AXW-7sOhNQ2v"
      },
      "outputs": [],
      "source": [],
      "id": "AXW-7sOhNQ2v"
    },
    {
      "cell_type": "code",
      "execution_count": null,
      "metadata": {
        "id": "APgtOl2vNQ2v"
      },
      "outputs": [],
      "source": [],
      "id": "APgtOl2vNQ2v"
    },
    {
      "cell_type": "markdown",
      "metadata": {
        "id": "kQ75b5zENQ2v"
      },
      "source": [
        "## Evaluation"
      ],
      "id": "kQ75b5zENQ2v"
    },
    {
      "cell_type": "code",
      "execution_count": null,
      "metadata": {
        "id": "RRvbQKryNQ2v"
      },
      "outputs": [],
      "source": [
        "#todo"
      ],
      "id": "RRvbQKryNQ2v"
    },
    {
      "cell_type": "code",
      "execution_count": null,
      "metadata": {
        "id": "FhT9U3qoNQ2v"
      },
      "outputs": [],
      "source": [],
      "id": "FhT9U3qoNQ2v"
    },
    {
      "cell_type": "code",
      "execution_count": null,
      "metadata": {
        "id": "FmKWcGcENQ2v"
      },
      "outputs": [],
      "source": [],
      "id": "FmKWcGcENQ2v"
    }
  ],
  "metadata": {
    "kernelspec": {
      "display_name": "Python 3 (ipykernel)",
      "language": "python",
      "name": "python3"
    },
    "language_info": {
      "codemirror_mode": {
        "name": "ipython",
        "version": 3
      },
      "file_extension": ".py",
      "mimetype": "text/x-python",
      "name": "python",
      "nbconvert_exporter": "python",
      "pygments_lexer": "ipython3",
      "version": "3.8.8"
    },
    "colab": {
      "provenance": [],
      "collapsed_sections": [
        "zscir61wNPq-",
        "3BBkYM98NQ2n"
      ],
      "include_colab_link": true
    }
  },
  "nbformat": 4,
  "nbformat_minor": 5
}